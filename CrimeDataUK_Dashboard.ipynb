{
 "cells": [
  {
   "cell_type": "code",
   "execution_count": 118,
   "id": "8583514b-2af8-44d4-a2df-081397d35425",
   "metadata": {},
   "outputs": [],
   "source": [
    "import pandas as pd\n",
    "import numpy as np\n",
    "import panel as pn\n",
    "pn.extension('tabulator')\n",
    "\n",
    "import hvplot.pandas"
   ]
  },
  {
   "cell_type": "code",
   "execution_count": 119,
   "id": "d88da374-5abc-49d0-b6d8-7a933346261a",
   "metadata": {},
   "outputs": [],
   "source": [
    "df = pd.read_csv(\"Data_Final1.csv\")\n",
    "df = df[df['Year_Month'] <= '2020-12']"
   ]
  },
  {
   "cell_type": "code",
   "execution_count": 120,
   "id": "36a27241-dabd-4b62-bc74-f3164a5ffe6a",
   "metadata": {},
   "outputs": [
    {
     "data": {
      "text/html": [
       "<div>\n",
       "<style scoped>\n",
       "    .dataframe tbody tr th:only-of-type {\n",
       "        vertical-align: middle;\n",
       "    }\n",
       "\n",
       "    .dataframe tbody tr th {\n",
       "        vertical-align: top;\n",
       "    }\n",
       "\n",
       "    .dataframe thead th {\n",
       "        text-align: right;\n",
       "    }\n",
       "</style>\n",
       "<table border=\"1\" class=\"dataframe\">\n",
       "  <thead>\n",
       "    <tr style=\"text-align: right;\">\n",
       "      <th></th>\n",
       "      <th>Year</th>\n",
       "      <th>Month</th>\n",
       "      <th>Year_Month</th>\n",
       "      <th>Crime type</th>\n",
       "      <th>LAD19CD</th>\n",
       "      <th>LAD19NM</th>\n",
       "      <th>CTYNM</th>\n",
       "      <th>RGN19CD</th>\n",
       "      <th>RGN19NM</th>\n",
       "      <th>CNTY21NM</th>\n",
       "      <th>NTN21NM</th>\n",
       "      <th>Frequency</th>\n",
       "      <th>Population</th>\n",
       "      <th>Population Density</th>\n",
       "      <th>Rainfall</th>\n",
       "    </tr>\n",
       "  </thead>\n",
       "  <tbody>\n",
       "    <tr>\n",
       "      <th>0</th>\n",
       "      <td>2013</td>\n",
       "      <td>5</td>\n",
       "      <td>2013-05</td>\n",
       "      <td>Anti-social behaviour</td>\n",
       "      <td>E06000001</td>\n",
       "      <td>Hartlepool</td>\n",
       "      <td>Cleveland</td>\n",
       "      <td>E12000001</td>\n",
       "      <td>North East</td>\n",
       "      <td>England</td>\n",
       "      <td>UK</td>\n",
       "      <td>622</td>\n",
       "      <td>92662.0</td>\n",
       "      <td>987.224740</td>\n",
       "      <td>76.6</td>\n",
       "    </tr>\n",
       "    <tr>\n",
       "      <th>1</th>\n",
       "      <td>2013</td>\n",
       "      <td>5</td>\n",
       "      <td>2013-05</td>\n",
       "      <td>Anti-social behaviour</td>\n",
       "      <td>E06000002</td>\n",
       "      <td>Middlesbrough</td>\n",
       "      <td>Cleveland</td>\n",
       "      <td>E12000001</td>\n",
       "      <td>North East</td>\n",
       "      <td>England</td>\n",
       "      <td>UK</td>\n",
       "      <td>1063</td>\n",
       "      <td>138911.0</td>\n",
       "      <td>2578.408789</td>\n",
       "      <td>76.6</td>\n",
       "    </tr>\n",
       "    <tr>\n",
       "      <th>2</th>\n",
       "      <td>2013</td>\n",
       "      <td>5</td>\n",
       "      <td>2013-05</td>\n",
       "      <td>Anti-social behaviour</td>\n",
       "      <td>E06000003</td>\n",
       "      <td>Redcar and Cleveland</td>\n",
       "      <td>Cleveland</td>\n",
       "      <td>E12000001</td>\n",
       "      <td>North East</td>\n",
       "      <td>England</td>\n",
       "      <td>UK</td>\n",
       "      <td>842</td>\n",
       "      <td>134960.0</td>\n",
       "      <td>551.093101</td>\n",
       "      <td>76.6</td>\n",
       "    </tr>\n",
       "    <tr>\n",
       "      <th>3</th>\n",
       "      <td>2013</td>\n",
       "      <td>5</td>\n",
       "      <td>2013-05</td>\n",
       "      <td>Anti-social behaviour</td>\n",
       "      <td>E06000004</td>\n",
       "      <td>Stockton-on-Tees</td>\n",
       "      <td>Cleveland</td>\n",
       "      <td>E12000001</td>\n",
       "      <td>North East</td>\n",
       "      <td>England</td>\n",
       "      <td>UK</td>\n",
       "      <td>1146</td>\n",
       "      <td>193433.0</td>\n",
       "      <td>948.523664</td>\n",
       "      <td>76.6</td>\n",
       "    </tr>\n",
       "    <tr>\n",
       "      <th>4</th>\n",
       "      <td>2013</td>\n",
       "      <td>5</td>\n",
       "      <td>2013-05</td>\n",
       "      <td>Anti-social behaviour</td>\n",
       "      <td>E06000005</td>\n",
       "      <td>Darlington</td>\n",
       "      <td>Durham</td>\n",
       "      <td>E12000001</td>\n",
       "      <td>North East</td>\n",
       "      <td>England</td>\n",
       "      <td>UK</td>\n",
       "      <td>474</td>\n",
       "      <td>105726.0</td>\n",
       "      <td>535.389019</td>\n",
       "      <td>76.6</td>\n",
       "    </tr>\n",
       "    <tr>\n",
       "      <th>...</th>\n",
       "      <td>...</td>\n",
       "      <td>...</td>\n",
       "      <td>...</td>\n",
       "      <td>...</td>\n",
       "      <td>...</td>\n",
       "      <td>...</td>\n",
       "      <td>...</td>\n",
       "      <td>...</td>\n",
       "      <td>...</td>\n",
       "      <td>...</td>\n",
       "      <td>...</td>\n",
       "      <td>...</td>\n",
       "      <td>...</td>\n",
       "      <td>...</td>\n",
       "      <td>...</td>\n",
       "    </tr>\n",
       "    <tr>\n",
       "      <th>397996</th>\n",
       "      <td>2020</td>\n",
       "      <td>12</td>\n",
       "      <td>2020-12</td>\n",
       "      <td>Violence and sexual offences</td>\n",
       "      <td>E09000029</td>\n",
       "      <td>Sutton</td>\n",
       "      <td>Metropolitan</td>\n",
       "      <td>E12000007</td>\n",
       "      <td>London</td>\n",
       "      <td>England</td>\n",
       "      <td>UK</td>\n",
       "      <td>314</td>\n",
       "      <td>207707.0</td>\n",
       "      <td>4736.740083</td>\n",
       "      <td>123.6</td>\n",
       "    </tr>\n",
       "    <tr>\n",
       "      <th>397997</th>\n",
       "      <td>2020</td>\n",
       "      <td>12</td>\n",
       "      <td>2020-12</td>\n",
       "      <td>Violence and sexual offences</td>\n",
       "      <td>E09000030</td>\n",
       "      <td>Tower Hamlets</td>\n",
       "      <td>Metropolitan</td>\n",
       "      <td>E12000007</td>\n",
       "      <td>London</td>\n",
       "      <td>England</td>\n",
       "      <td>UK</td>\n",
       "      <td>755</td>\n",
       "      <td>331969.0</td>\n",
       "      <td>16792.402250</td>\n",
       "      <td>123.6</td>\n",
       "    </tr>\n",
       "    <tr>\n",
       "      <th>397998</th>\n",
       "      <td>2020</td>\n",
       "      <td>12</td>\n",
       "      <td>2020-12</td>\n",
       "      <td>Violence and sexual offences</td>\n",
       "      <td>E09000031</td>\n",
       "      <td>Waltham Forest</td>\n",
       "      <td>Metropolitan</td>\n",
       "      <td>E12000007</td>\n",
       "      <td>London</td>\n",
       "      <td>England</td>\n",
       "      <td>UK</td>\n",
       "      <td>574</td>\n",
       "      <td>276940.0</td>\n",
       "      <td>7135.054362</td>\n",
       "      <td>123.6</td>\n",
       "    </tr>\n",
       "    <tr>\n",
       "      <th>397999</th>\n",
       "      <td>2020</td>\n",
       "      <td>12</td>\n",
       "      <td>2020-12</td>\n",
       "      <td>Violence and sexual offences</td>\n",
       "      <td>E09000032</td>\n",
       "      <td>Wandsworth</td>\n",
       "      <td>Metropolitan</td>\n",
       "      <td>E12000007</td>\n",
       "      <td>London</td>\n",
       "      <td>England</td>\n",
       "      <td>UK</td>\n",
       "      <td>590</td>\n",
       "      <td>329735.0</td>\n",
       "      <td>9623.674587</td>\n",
       "      <td>123.6</td>\n",
       "    </tr>\n",
       "    <tr>\n",
       "      <th>398000</th>\n",
       "      <td>2020</td>\n",
       "      <td>12</td>\n",
       "      <td>2020-12</td>\n",
       "      <td>Violence and sexual offences</td>\n",
       "      <td>E09000033</td>\n",
       "      <td>Westminster</td>\n",
       "      <td>Metropolitan</td>\n",
       "      <td>E12000007</td>\n",
       "      <td>London</td>\n",
       "      <td>England</td>\n",
       "      <td>UK</td>\n",
       "      <td>686</td>\n",
       "      <td>269848.0</td>\n",
       "      <td>12564.042870</td>\n",
       "      <td>123.6</td>\n",
       "    </tr>\n",
       "  </tbody>\n",
       "</table>\n",
       "<p>398001 rows × 15 columns</p>\n",
       "</div>"
      ],
      "text/plain": [
       "        Year  Month Year_Month                    Crime type    LAD19CD  \\\n",
       "0       2013      5    2013-05         Anti-social behaviour  E06000001   \n",
       "1       2013      5    2013-05         Anti-social behaviour  E06000002   \n",
       "2       2013      5    2013-05         Anti-social behaviour  E06000003   \n",
       "3       2013      5    2013-05         Anti-social behaviour  E06000004   \n",
       "4       2013      5    2013-05         Anti-social behaviour  E06000005   \n",
       "...      ...    ...        ...                           ...        ...   \n",
       "397996  2020     12    2020-12  Violence and sexual offences  E09000029   \n",
       "397997  2020     12    2020-12  Violence and sexual offences  E09000030   \n",
       "397998  2020     12    2020-12  Violence and sexual offences  E09000031   \n",
       "397999  2020     12    2020-12  Violence and sexual offences  E09000032   \n",
       "398000  2020     12    2020-12  Violence and sexual offences  E09000033   \n",
       "\n",
       "                     LAD19NM         CTYNM    RGN19CD     RGN19NM CNTY21NM  \\\n",
       "0                 Hartlepool     Cleveland  E12000001  North East  England   \n",
       "1              Middlesbrough     Cleveland  E12000001  North East  England   \n",
       "2       Redcar and Cleveland     Cleveland  E12000001  North East  England   \n",
       "3           Stockton-on-Tees     Cleveland  E12000001  North East  England   \n",
       "4                 Darlington        Durham  E12000001  North East  England   \n",
       "...                      ...           ...        ...         ...      ...   \n",
       "397996                Sutton  Metropolitan  E12000007      London  England   \n",
       "397997         Tower Hamlets  Metropolitan  E12000007      London  England   \n",
       "397998        Waltham Forest  Metropolitan  E12000007      London  England   \n",
       "397999            Wandsworth  Metropolitan  E12000007      London  England   \n",
       "398000           Westminster  Metropolitan  E12000007      London  England   \n",
       "\n",
       "       NTN21NM  Frequency  Population  Population Density  Rainfall  \n",
       "0           UK        622     92662.0          987.224740      76.6  \n",
       "1           UK       1063    138911.0         2578.408789      76.6  \n",
       "2           UK        842    134960.0          551.093101      76.6  \n",
       "3           UK       1146    193433.0          948.523664      76.6  \n",
       "4           UK        474    105726.0          535.389019      76.6  \n",
       "...        ...        ...         ...                 ...       ...  \n",
       "397996      UK        314    207707.0         4736.740083     123.6  \n",
       "397997      UK        755    331969.0        16792.402250     123.6  \n",
       "397998      UK        574    276940.0         7135.054362     123.6  \n",
       "397999      UK        590    329735.0         9623.674587     123.6  \n",
       "398000      UK        686    269848.0        12564.042870     123.6  \n",
       "\n",
       "[398001 rows x 15 columns]"
      ]
     },
     "execution_count": 120,
     "metadata": {},
     "output_type": "execute_result"
    }
   ],
   "source": [
    "df"
   ]
  },
  {
   "cell_type": "code",
   "execution_count": 121,
   "id": "1e5199b9-315a-445f-aea0-f6c65e9161f5",
   "metadata": {},
   "outputs": [],
   "source": [
    "df = df.rename({\n",
    "'Crime type' : 'Crime_Type',\n",
    "'LAD19CD': 'LAD_Codes', \n",
    "'LAD19NM': 'LAD_Names',\n",
    "'CTYNM': 'County',\n",
    "'CNTY21NM': 'Country',\n",
    "'NTN21NM':'Nation',\n",
    "'Population Density':'Population_Density'}, axis=1)"
   ]
  },
  {
   "cell_type": "code",
   "execution_count": 122,
   "id": "1c96c5cb-a134-468e-8345-62d68df312e9",
   "metadata": {},
   "outputs": [
    {
     "data": {},
     "metadata": {},
     "output_type": "display_data"
    },
    {
     "data": {
      "application/vnd.holoviews_exec.v0+json": "",
      "text/html": [
       "<div id='90589'>\n",
       "\n",
       "\n",
       "\n",
       "\n",
       "\n",
       "  <div class=\"bk-root\" id=\"d728dd73-1028-4a03-9064-dfcd4307ce8e\" data-root-id=\"90589\"></div>\n",
       "</div>\n",
       "<script type=\"application/javascript\">(function(root) {\n",
       "  function embed_document(root) {\n",
       "    var docs_json = {\"f7f04f56-e9d2-4eea-90a8-68cd9e10644a\":{\"defs\":[{\"extends\":null,\"module\":null,\"name\":\"ReactiveHTML1\",\"overrides\":[],\"properties\":[]},{\"extends\":null,\"module\":null,\"name\":\"FlexBox1\",\"overrides\":[],\"properties\":[{\"default\":\"flex-start\",\"kind\":null,\"name\":\"align_content\"},{\"default\":\"flex-start\",\"kind\":null,\"name\":\"align_items\"},{\"default\":\"row\",\"kind\":null,\"name\":\"flex_direction\"},{\"default\":\"wrap\",\"kind\":null,\"name\":\"flex_wrap\"},{\"default\":\"flex-start\",\"kind\":null,\"name\":\"justify_content\"}]},{\"extends\":null,\"module\":null,\"name\":\"TemplateActions1\",\"overrides\":[],\"properties\":[{\"default\":0,\"kind\":null,\"name\":\"open_modal\"},{\"default\":0,\"kind\":null,\"name\":\"close_modal\"}]},{\"extends\":null,\"module\":null,\"name\":\"MaterialTemplateActions1\",\"overrides\":[],\"properties\":[{\"default\":0,\"kind\":null,\"name\":\"open_modal\"},{\"default\":0,\"kind\":null,\"name\":\"close_modal\"}]}],\"roots\":{\"references\":[{\"attributes\":{\"end\":2020,\"margin\":[5,10,5,10],\"start\":2013,\"title\":\"Year slider\",\"value\":2014},\"id\":\"90589\",\"type\":\"Slider\"},{\"attributes\":{\"client_comm_id\":\"c0977b5d19074ba98c156198f6b77780\",\"comm_id\":\"ec35cf07a33f429c80c67a10a27c4ced\",\"plot_id\":\"90589\"},\"id\":\"90590\",\"type\":\"panel.models.comm_manager.CommManager\"}],\"root_ids\":[\"90589\",\"90590\"]},\"title\":\"Bokeh Application\",\"version\":\"2.4.2\"}};\n",
       "    var render_items = [{\"docid\":\"f7f04f56-e9d2-4eea-90a8-68cd9e10644a\",\"root_ids\":[\"90589\"],\"roots\":{\"90589\":\"d728dd73-1028-4a03-9064-dfcd4307ce8e\"}}];\n",
       "    root.Bokeh.embed.embed_items_notebook(docs_json, render_items);\n",
       "  }\n",
       "  if (root.Bokeh !== undefined && root.Bokeh.Panel !== undefined && ( root['Tabulator'] !== undefined)) {\n",
       "    embed_document(root);\n",
       "  } else {\n",
       "    var attempts = 0;\n",
       "    var timer = setInterval(function(root) {\n",
       "      if (root.Bokeh !== undefined && root.Bokeh.Panel !== undefined && (root['Tabulator'] !== undefined)) {\n",
       "        clearInterval(timer);\n",
       "        embed_document(root);\n",
       "      } else if (document.readyState == \"complete\") {\n",
       "        attempts++;\n",
       "        if (attempts > 200) {\n",
       "          clearInterval(timer);\n",
       "          console.log(\"Bokeh: ERROR: Unable to run BokehJS code because BokehJS library is missing\");\n",
       "        }\n",
       "      }\n",
       "    }, 25, root)\n",
       "  }\n",
       "})(window);</script>"
      ],
      "text/plain": [
       "IntSlider(end=2020, name='Year slider', start=2013, value=2014)"
      ]
     },
     "execution_count": 122,
     "metadata": {
      "application/vnd.holoviews_exec.v0+json": {
       "id": "90589"
      }
     },
     "output_type": "execute_result"
    }
   ],
   "source": [
    "year_slider = pn.widgets.IntSlider(name='Year slider', start=2013, end=2020, step=1, value=2014)\n",
    "year_slider"
   ]
  },
  {
   "cell_type": "code",
   "execution_count": 123,
   "id": "73a6d364",
   "metadata": {},
   "outputs": [],
   "source": [
    "select_rgn = pn.widgets.Select(name='Select Region', options=['North East', 'North West', 'Yorkshire and The Humber',\n",
    "       'East Midlands', 'West Midlands', 'South West', 'East of England',\n",
    "       'South East', 'London'])"
   ]
  },
  {
   "cell_type": "code",
   "execution_count": 124,
   "id": "24f13483-af7e-4d7c-a736-5b918fe787b0",
   "metadata": {},
   "outputs": [],
   "source": [
    "idf = df.interactive()"
   ]
  },
  {
   "cell_type": "code",
   "execution_count": 125,
   "id": "99fd1334-4791-4ac6-b0d7-cb36171fed1b",
   "metadata": {},
   "outputs": [],
   "source": [
    "crimeyr_pipeline = (\n",
    "    idf[\n",
    "        (idf.Year == year_slider) &\n",
    "        (idf.RGN19NM == select_rgn)\n",
    "    ].groupby(['Year', 'Crime_Type'])['Frequency'].sum()\n",
    "    .to_frame()\n",
    "    .reset_index()\n",
    "    .sort_values(by='Crime_Type') \n",
    "    .reset_index(drop=True)\n",
    ")"
   ]
  },
  {
   "cell_type": "code",
   "execution_count": 126,
   "id": "f7e0e385",
   "metadata": {},
   "outputs": [
    {
     "data": {
      "text/plain": [
       "hvplot.interactive.Interactive"
      ]
     },
     "execution_count": 126,
     "metadata": {},
     "output_type": "execute_result"
    }
   ],
   "source": [
    "type(crimeyr_pipeline)"
   ]
  },
  {
   "cell_type": "code",
   "execution_count": 127,
   "id": "834e972e-d52e-45aa-ba9c-1e55a105b0b7",
   "metadata": {},
   "outputs": [
    {
     "data": {},
     "metadata": {},
     "output_type": "display_data"
    },
    {
     "data": {
      "application/vnd.holoviews_exec.v0+json": "",
      "text/html": [
       "<div id='90591'>\n",
       "\n",
       "\n",
       "\n",
       "\n",
       "\n",
       "  <div class=\"bk-root\" id=\"b8bdb07c-2166-4af8-8cf3-7a2c022fd1a3\" data-root-id=\"90591\"></div>\n",
       "</div>\n",
       "<script type=\"application/javascript\">(function(root) {\n",
       "  function embed_document(root) {\n",
       "    var docs_json = {\"df528141-1d05-4812-a74b-39c10b87a118\":{\"defs\":[{\"extends\":null,\"module\":null,\"name\":\"ReactiveHTML1\",\"overrides\":[],\"properties\":[]},{\"extends\":null,\"module\":null,\"name\":\"FlexBox1\",\"overrides\":[],\"properties\":[{\"default\":\"flex-start\",\"kind\":null,\"name\":\"align_content\"},{\"default\":\"flex-start\",\"kind\":null,\"name\":\"align_items\"},{\"default\":\"row\",\"kind\":null,\"name\":\"flex_direction\"},{\"default\":\"wrap\",\"kind\":null,\"name\":\"flex_wrap\"},{\"default\":\"flex-start\",\"kind\":null,\"name\":\"justify_content\"}]},{\"extends\":null,\"module\":null,\"name\":\"TemplateActions1\",\"overrides\":[],\"properties\":[{\"default\":0,\"kind\":null,\"name\":\"open_modal\"},{\"default\":0,\"kind\":null,\"name\":\"close_modal\"}]},{\"extends\":null,\"module\":null,\"name\":\"MaterialTemplateActions1\",\"overrides\":[],\"properties\":[{\"default\":0,\"kind\":null,\"name\":\"open_modal\"},{\"default\":0,\"kind\":null,\"name\":\"close_modal\"}]}],\"roots\":{\"references\":[{\"attributes\":{\"editor\":{\"id\":\"90602\"},\"field\":\"Year\",\"formatter\":{\"id\":\"90601\"},\"title\":\"Year\",\"width\":0},\"id\":\"90603\",\"type\":\"TableColumn\"},{\"attributes\":{\"children\":[{\"id\":\"90595\"},{\"id\":\"90596\"}],\"margin\":[0,0,0,0],\"name\":\"Column310661\"},\"id\":\"90594\",\"type\":\"Column\"},{\"attributes\":{\"data\":{\"Crime_Type\":[\"Anti-social behaviour\",\"Bicycle theft\",\"Burglary\",\"Criminal damage and arson\",\"Drugs\",\"Other crime\",\"Other theft\",\"Possession of weapons\",\"Public order\",\"Robbery\",\"Shoplifting\",\"Theft from the person\",\"Vehicle crime\",\"Violence and sexual offences\"],\"Frequency\":[152417,3648,15954,28668,7102,2058,18880,1124,5389,871,18488,1306,10926,29235],\"Year\":[2014,2014,2014,2014,2014,2014,2014,2014,2014,2014,2014,2014,2014,2014],\"index\":[0,1,2,3,4,5,6,7,8,9,10,11,12,13]},\"selected\":{\"id\":\"90600\"},\"selection_policy\":{\"id\":\"90618\"}},\"id\":\"90599\",\"type\":\"ColumnDataSource\"},{\"attributes\":{\"margin\":[5,10,5,10],\"options\":[\"North East\",\"North West\",\"Yorkshire and The Humber\",\"East Midlands\",\"West Midlands\",\"South West\",\"East of England\",\"South East\",\"London\"],\"title\":\"Select Region\",\"value\":\"North East\"},\"id\":\"90596\",\"type\":\"Select\"},{\"attributes\":{\"margin\":[5,5,5,5],\"name\":\"HSpacer310696\",\"sizing_mode\":\"stretch_width\"},\"id\":\"90597\",\"type\":\"Spacer\"},{\"attributes\":{},\"id\":\"90611\",\"type\":\"NumberFormatter\"},{\"attributes\":{},\"id\":\"90602\",\"type\":\"IntEditor\"},{\"attributes\":{\"editor\":{\"id\":\"90607\"},\"field\":\"Crime_Type\",\"formatter\":{\"id\":\"90606\"},\"title\":\"Crime_Type\",\"width\":0},\"id\":\"90608\",\"type\":\"TableColumn\"},{\"attributes\":{\"columns\":[{\"id\":\"90603\"},{\"id\":\"90608\"},{\"id\":\"90613\"}],\"configuration\":{\"columns\":[{\"field\":\"Year\"},{\"field\":\"Crime_Type\"},{\"field\":\"Frequency\"}],\"dataTree\":false,\"selectable\":true},\"height\":450,\"layout\":\"fit_columns\",\"margin\":[5,10,5,10],\"max_page\":1,\"name\":\"\",\"page\":1,\"page_size\":14,\"pagination\":\"remote\",\"selectable_rows\":null,\"source\":{\"id\":\"90599\"}},\"id\":\"90616\",\"type\":\"panel.models.tabulator.DataTabulator\"},{\"attributes\":{},\"id\":\"90607\",\"type\":\"StringEditor\"},{\"attributes\":{\"children\":[{\"id\":\"90592\"}],\"margin\":[0,0,0,0],\"name\":\"Row310699\"},\"id\":\"90591\",\"type\":\"Row\"},{\"attributes\":{},\"id\":\"90618\",\"type\":\"UnionRenderers\"},{\"attributes\":{\"children\":[{\"id\":\"90593\"},{\"id\":\"90598\"}],\"margin\":[0,0,0,0],\"name\":\"Column310698\"},\"id\":\"90592\",\"type\":\"Column\"},{\"attributes\":{\"children\":[{\"id\":\"90594\"},{\"id\":\"90597\"}],\"margin\":[0,0,0,0],\"name\":\"Row310697\"},\"id\":\"90593\",\"type\":\"Row\"},{\"attributes\":{},\"id\":\"90606\",\"type\":\"StringFormatter\"},{\"attributes\":{},\"id\":\"90612\",\"type\":\"IntEditor\"},{\"attributes\":{\"client_comm_id\":\"a7039dfe28f04ce7bd4d0f7e34b20379\",\"comm_id\":\"48d1c265e91e4e4ebe62459f00e45fd3\",\"plot_id\":\"90591\"},\"id\":\"90624\",\"type\":\"panel.models.comm_manager.CommManager\"},{\"attributes\":{},\"id\":\"90601\",\"type\":\"NumberFormatter\"},{\"attributes\":{\"children\":[{\"id\":\"90616\"}],\"margin\":[0,0,0,0],\"name\":\"Row310666\"},\"id\":\"90598\",\"type\":\"Row\"},{\"attributes\":{\"editor\":{\"id\":\"90612\"},\"field\":\"Frequency\",\"formatter\":{\"id\":\"90611\"},\"title\":\"Frequency\",\"width\":0},\"id\":\"90613\",\"type\":\"TableColumn\"},{\"attributes\":{\"indices\":[]},\"id\":\"90600\",\"type\":\"Selection\"},{\"attributes\":{\"end\":2020,\"margin\":[5,10,5,10],\"start\":2013,\"title\":\"Year slider\",\"value\":2014},\"id\":\"90595\",\"type\":\"Slider\"}],\"root_ids\":[\"90591\",\"90624\"]},\"title\":\"Bokeh Application\",\"version\":\"2.4.2\"}};\n",
       "    var render_items = [{\"docid\":\"df528141-1d05-4812-a74b-39c10b87a118\",\"root_ids\":[\"90591\"],\"roots\":{\"90591\":\"b8bdb07c-2166-4af8-8cf3-7a2c022fd1a3\"}}];\n",
       "    root.Bokeh.embed.embed_items_notebook(docs_json, render_items);\n",
       "  }\n",
       "  if (root.Bokeh !== undefined && root.Bokeh.Panel !== undefined && ( root['Tabulator'] !== undefined)) {\n",
       "    embed_document(root);\n",
       "  } else {\n",
       "    var attempts = 0;\n",
       "    var timer = setInterval(function(root) {\n",
       "      if (root.Bokeh !== undefined && root.Bokeh.Panel !== undefined && (root['Tabulator'] !== undefined)) {\n",
       "        clearInterval(timer);\n",
       "        embed_document(root);\n",
       "      } else if (document.readyState == \"complete\") {\n",
       "        attempts++;\n",
       "        if (attempts > 200) {\n",
       "          clearInterval(timer);\n",
       "          console.log(\"Bokeh: ERROR: Unable to run BokehJS code because BokehJS library is missing\");\n",
       "        }\n",
       "      }\n",
       "    }, 25, root)\n",
       "  }\n",
       "})(window);</script>"
      ],
      "text/plain": [
       "<hvplot.interactive.Interactive at 0x24123781f40>"
      ]
     },
     "execution_count": 127,
     "metadata": {
      "application/vnd.holoviews_exec.v0+json": {
       "id": "90591"
      }
     },
     "output_type": "execute_result"
    }
   ],
   "source": [
    "cryr_plot = crimeyr_pipeline.pipe(pn.widgets.Tabulator, pagination='remote', page_size = 14, layout='fit_columns',show_index=False) \n",
    "cryr_plot"
   ]
  },
  {
   "cell_type": "code",
   "execution_count": null,
   "id": "cdfe6c2f-5b7d-40a2-bd9c-3599a5e4c148",
   "metadata": {},
   "outputs": [],
   "source": []
  },
  {
   "cell_type": "code",
   "execution_count": 128,
   "id": "3663590e-5459-4220-86f5-246ab98e85aa",
   "metadata": {},
   "outputs": [],
   "source": [
    "select_typ = pn.widgets.Select(name='Select Crime Type', options=['Anti-social behaviour', 'Bicycle theft', 'Burglary',\n",
    "       'Criminal damage and arson', 'Drugs', 'Other crime', 'Other theft',\n",
    "       'Possession of weapons', 'Public order', 'Robbery', 'Shoplifting',\n",
    "       'Theft from the person', 'Vehicle crime',\n",
    "       'Violence and sexual offences'])"
   ]
  },
  {
   "cell_type": "code",
   "execution_count": 129,
   "id": "235e4116",
   "metadata": {},
   "outputs": [],
   "source": [
    "crimeyrtp_pipeline = (\n",
    "    idf[\n",
    "        (idf.Year == year_slider) &\n",
    "        (idf.Crime_Type == select_typ)\n",
    "    ].groupby(['Year', 'RGN19NM'])['Frequency'].sum()\n",
    "    .to_frame()\n",
    "    .reset_index()\n",
    "    .sort_values(by='RGN19NM') \n",
    "    .reset_index(drop=True)\n",
    ")"
   ]
  },
  {
   "cell_type": "code",
   "execution_count": 130,
   "id": "014bb56c",
   "metadata": {},
   "outputs": [
    {
     "data": {},
     "metadata": {},
     "output_type": "display_data"
    },
    {
     "data": {
      "application/vnd.holoviews_exec.v0+json": "",
      "text/html": [
       "<div id='90635'>\n",
       "\n",
       "\n",
       "\n",
       "\n",
       "\n",
       "  <div class=\"bk-root\" id=\"787d6c30-69a1-45d1-a069-77bac5d7e48d\" data-root-id=\"90635\"></div>\n",
       "</div>\n",
       "<script type=\"application/javascript\">(function(root) {\n",
       "  function embed_document(root) {\n",
       "    var docs_json = {\"2fe696ae-c841-4bc7-9896-75ef2dfcba4e\":{\"defs\":[{\"extends\":null,\"module\":null,\"name\":\"ReactiveHTML1\",\"overrides\":[],\"properties\":[]},{\"extends\":null,\"module\":null,\"name\":\"FlexBox1\",\"overrides\":[],\"properties\":[{\"default\":\"flex-start\",\"kind\":null,\"name\":\"align_content\"},{\"default\":\"flex-start\",\"kind\":null,\"name\":\"align_items\"},{\"default\":\"row\",\"kind\":null,\"name\":\"flex_direction\"},{\"default\":\"wrap\",\"kind\":null,\"name\":\"flex_wrap\"},{\"default\":\"flex-start\",\"kind\":null,\"name\":\"justify_content\"}]},{\"extends\":null,\"module\":null,\"name\":\"TemplateActions1\",\"overrides\":[],\"properties\":[{\"default\":0,\"kind\":null,\"name\":\"open_modal\"},{\"default\":0,\"kind\":null,\"name\":\"close_modal\"}]},{\"extends\":null,\"module\":null,\"name\":\"MaterialTemplateActions1\",\"overrides\":[],\"properties\":[{\"default\":0,\"kind\":null,\"name\":\"open_modal\"},{\"default\":0,\"kind\":null,\"name\":\"close_modal\"}]}],\"roots\":{\"references\":[{\"attributes\":{\"children\":[{\"id\":\"90639\"},{\"id\":\"90640\"}],\"margin\":[0,0,0,0],\"name\":\"Column311025\"},\"id\":\"90638\",\"type\":\"Column\"},{\"attributes\":{},\"id\":\"90645\",\"type\":\"NumberFormatter\"},{\"attributes\":{\"client_comm_id\":\"fd1ac1bed7014dd5a227573fbe06aec7\",\"comm_id\":\"aaf18e81fa22407b8ba2e1aea6a39678\",\"plot_id\":\"90635\"},\"id\":\"90668\",\"type\":\"panel.models.comm_manager.CommManager\"},{\"attributes\":{},\"id\":\"90650\",\"type\":\"StringFormatter\"},{\"attributes\":{\"editor\":{\"id\":\"90646\"},\"field\":\"Year\",\"formatter\":{\"id\":\"90645\"},\"title\":\"Year\",\"width\":0},\"id\":\"90647\",\"type\":\"TableColumn\"},{\"attributes\":{\"children\":[{\"id\":\"90638\"},{\"id\":\"90641\"}],\"margin\":[0,0,0,0],\"name\":\"Row311061\"},\"id\":\"90637\",\"type\":\"Row\"},{\"attributes\":{\"editor\":{\"id\":\"90651\"},\"field\":\"RGN19NM\",\"formatter\":{\"id\":\"90650\"},\"title\":\"RGN19NM\",\"width\":0},\"id\":\"90652\",\"type\":\"TableColumn\"},{\"attributes\":{\"margin\":[5,10,5,10],\"options\":[\"Anti-social behaviour\",\"Bicycle theft\",\"Burglary\",\"Criminal damage and arson\",\"Drugs\",\"Other crime\",\"Other theft\",\"Possession of weapons\",\"Public order\",\"Robbery\",\"Shoplifting\",\"Theft from the person\",\"Vehicle crime\",\"Violence and sexual offences\"],\"title\":\"Select Crime Type\",\"value\":\"Anti-social behaviour\"},\"id\":\"90640\",\"type\":\"Select\"},{\"attributes\":{\"indices\":[]},\"id\":\"90644\",\"type\":\"Selection\"},{\"attributes\":{},\"id\":\"90651\",\"type\":\"StringEditor\"},{\"attributes\":{},\"id\":\"90656\",\"type\":\"IntEditor\"},{\"attributes\":{\"columns\":[{\"id\":\"90647\"},{\"id\":\"90652\"},{\"id\":\"90657\"}],\"configuration\":{\"columns\":[{\"field\":\"Year\"},{\"field\":\"RGN19NM\"},{\"field\":\"Frequency\"}],\"dataTree\":false,\"selectable\":true},\"height\":300,\"layout\":\"fit_columns\",\"margin\":[5,10,5,10],\"max_page\":1,\"name\":\"\",\"page\":1,\"page_size\":9,\"pagination\":\"remote\",\"selectable_rows\":null,\"source\":{\"id\":\"90643\"}},\"id\":\"90660\",\"type\":\"panel.models.tabulator.DataTabulator\"},{\"attributes\":{\"children\":[{\"id\":\"90636\"}],\"margin\":[0,0,0,0],\"name\":\"Row311063\"},\"id\":\"90635\",\"type\":\"Row\"},{\"attributes\":{},\"id\":\"90655\",\"type\":\"NumberFormatter\"},{\"attributes\":{\"margin\":[5,5,5,5],\"name\":\"HSpacer311060\",\"sizing_mode\":\"stretch_width\"},\"id\":\"90641\",\"type\":\"Spacer\"},{\"attributes\":{},\"id\":\"90646\",\"type\":\"IntEditor\"},{\"attributes\":{\"editor\":{\"id\":\"90656\"},\"field\":\"Frequency\",\"formatter\":{\"id\":\"90655\"},\"title\":\"Frequency\",\"width\":0},\"id\":\"90657\",\"type\":\"TableColumn\"},{\"attributes\":{\"children\":[{\"id\":\"90637\"},{\"id\":\"90642\"}],\"margin\":[0,0,0,0],\"name\":\"Column311062\"},\"id\":\"90636\",\"type\":\"Column\"},{\"attributes\":{\"end\":2020,\"margin\":[5,10,5,10],\"start\":2013,\"title\":\"Year slider\",\"value\":2014},\"id\":\"90639\",\"type\":\"Slider\"},{\"attributes\":{\"children\":[{\"id\":\"90660\"}],\"margin\":[0,0,0,0],\"name\":\"Row311030\"},\"id\":\"90642\",\"type\":\"Row\"},{\"attributes\":{\"data\":{\"Frequency\":[159216,168876,256611,152417,324063,241757,168495,168202,215592],\"RGN19NM\":[\"East Midlands\",\"East of England\",\"London\",\"North East\",\"North West\",\"South East\",\"South West\",\"West Midlands\",\"Yorkshire and The Humber\"],\"Year\":[2014,2014,2014,2014,2014,2014,2014,2014,2014],\"index\":[0,1,2,3,4,5,6,7,8]},\"selected\":{\"id\":\"90644\"},\"selection_policy\":{\"id\":\"90662\"}},\"id\":\"90643\",\"type\":\"ColumnDataSource\"},{\"attributes\":{},\"id\":\"90662\",\"type\":\"UnionRenderers\"}],\"root_ids\":[\"90635\",\"90668\"]},\"title\":\"Bokeh Application\",\"version\":\"2.4.2\"}};\n",
       "    var render_items = [{\"docid\":\"2fe696ae-c841-4bc7-9896-75ef2dfcba4e\",\"root_ids\":[\"90635\"],\"roots\":{\"90635\":\"787d6c30-69a1-45d1-a069-77bac5d7e48d\"}}];\n",
       "    root.Bokeh.embed.embed_items_notebook(docs_json, render_items);\n",
       "  }\n",
       "  if (root.Bokeh !== undefined && root.Bokeh.Panel !== undefined && ( root['Tabulator'] !== undefined)) {\n",
       "    embed_document(root);\n",
       "  } else {\n",
       "    var attempts = 0;\n",
       "    var timer = setInterval(function(root) {\n",
       "      if (root.Bokeh !== undefined && root.Bokeh.Panel !== undefined && (root['Tabulator'] !== undefined)) {\n",
       "        clearInterval(timer);\n",
       "        embed_document(root);\n",
       "      } else if (document.readyState == \"complete\") {\n",
       "        attempts++;\n",
       "        if (attempts > 200) {\n",
       "          clearInterval(timer);\n",
       "          console.log(\"Bokeh: ERROR: Unable to run BokehJS code because BokehJS library is missing\");\n",
       "        }\n",
       "      }\n",
       "    }, 25, root)\n",
       "  }\n",
       "})(window);</script>"
      ],
      "text/plain": [
       "<hvplot.interactive.Interactive at 0x241237811c0>"
      ]
     },
     "execution_count": 130,
     "metadata": {
      "application/vnd.holoviews_exec.v0+json": {
       "id": "90635"
      }
     },
     "output_type": "execute_result"
    }
   ],
   "source": [
    "cryrtyp_plot = crimeyrtp_pipeline.pipe(pn.widgets.Tabulator, pagination='remote', page_size = 9, layout='fit_columns',show_index=False) \n",
    "cryrtyp_plot"
   ]
  },
  {
   "cell_type": "code",
   "execution_count": 131,
   "id": "31de351d-5569-4ee5-b8e2-a5856435f361",
   "metadata": {},
   "outputs": [],
   "source": [
    "crimergn_pipeline = (\n",
    "    idf[(idf.RGN19NM == select_rgn ) & (idf.Crime_Type== select_typ) ].groupby(['Year_Month'])['Frequency'].sum()\n",
    "    .to_frame()\n",
    "    .reset_index()\n",
    "    .sort_values(by='Year_Month') \n",
    "    .reset_index(drop=True)\n",
    ")"
   ]
  },
  {
   "cell_type": "code",
   "execution_count": 132,
   "id": "ec67cc22-4696-4dde-9e2a-49fb994bfedd",
   "metadata": {},
   "outputs": [
    {
     "data": {},
     "metadata": {},
     "output_type": "display_data"
    },
    {
     "data": {},
     "metadata": {},
     "output_type": "display_data"
    },
    {
     "data": {
      "application/vnd.holoviews_exec.v0+json": "",
      "text/html": [
       "<div id='90679'>\n",
       "\n",
       "\n",
       "\n",
       "\n",
       "\n",
       "  <div class=\"bk-root\" id=\"9b8a8642-23af-4b00-b8ea-cd201ccae13e\" data-root-id=\"90679\"></div>\n",
       "</div>\n",
       "<script type=\"application/javascript\">(function(root) {\n",
       "  function embed_document(root) {\n",
       "    var docs_json = {\"2e53b4a5-8fb7-41e4-98f1-ef16339cb967\":{\"defs\":[{\"extends\":null,\"module\":null,\"name\":\"ReactiveHTML1\",\"overrides\":[],\"properties\":[]},{\"extends\":null,\"module\":null,\"name\":\"FlexBox1\",\"overrides\":[],\"properties\":[{\"default\":\"flex-start\",\"kind\":null,\"name\":\"align_content\"},{\"default\":\"flex-start\",\"kind\":null,\"name\":\"align_items\"},{\"default\":\"row\",\"kind\":null,\"name\":\"flex_direction\"},{\"default\":\"wrap\",\"kind\":null,\"name\":\"flex_wrap\"},{\"default\":\"flex-start\",\"kind\":null,\"name\":\"justify_content\"}]},{\"extends\":null,\"module\":null,\"name\":\"TemplateActions1\",\"overrides\":[],\"properties\":[{\"default\":0,\"kind\":null,\"name\":\"open_modal\"},{\"default\":0,\"kind\":null,\"name\":\"close_modal\"}]},{\"extends\":null,\"module\":null,\"name\":\"MaterialTemplateActions1\",\"overrides\":[],\"properties\":[{\"default\":0,\"kind\":null,\"name\":\"open_modal\"},{\"default\":0,\"kind\":null,\"name\":\"close_modal\"}]}],\"roots\":{\"references\":[{\"attributes\":{},\"id\":\"90696\",\"type\":\"LinearScale\"},{\"attributes\":{\"children\":[{\"id\":\"90682\"},{\"id\":\"90685\"}],\"margin\":[0,0,0,0],\"name\":\"Row311466\"},\"id\":\"90681\",\"type\":\"Row\"},{\"attributes\":{},\"id\":\"90742\",\"type\":\"UnionRenderers\"},{\"attributes\":{\"coordinates\":null,\"data_source\":{\"id\":\"90718\"},\"glyph\":{\"id\":\"90721\"},\"group\":null,\"hover_glyph\":null,\"muted_glyph\":{\"id\":\"90723\"},\"nonselection_glyph\":{\"id\":\"90722\"},\"selection_glyph\":{\"id\":\"90726\"},\"view\":{\"id\":\"90725\"}},\"id\":\"90724\",\"type\":\"GlyphRenderer\"},{\"attributes\":{\"callback\":null,\"renderers\":[{\"id\":\"90724\"}],\"tags\":[\"hv_created\"],\"tooltips\":[[\"Year_Month\",\"@{Year_Month}\"],[\"Frequency\",\"@{Frequency}\"]]},\"id\":\"90688\",\"type\":\"HoverTool\"},{\"attributes\":{},\"id\":\"90730\",\"type\":\"AllLabels\"},{\"attributes\":{},\"id\":\"90694\",\"type\":\"CategoricalScale\"},{\"attributes\":{\"factors\":[\"2013-05\",\"2013-06\",\"2013-07\",\"2013-08\",\"2013-09\",\"2013-10\",\"2013-11\",\"2013-12\",\"2014-01\",\"2014-02\",\"2014-03\",\"2014-04\",\"2014-05\",\"2014-06\",\"2014-07\",\"2014-08\",\"2014-09\",\"2014-10\",\"2014-11\",\"2014-12\",\"2015-01\",\"2015-02\",\"2015-03\",\"2015-04\",\"2015-05\",\"2015-06\",\"2015-07\",\"2015-08\",\"2015-09\",\"2015-10\",\"2015-11\",\"2015-12\",\"2016-01\",\"2016-02\",\"2016-03\",\"2016-04\",\"2016-05\",\"2016-06\",\"2016-07\",\"2016-08\",\"2016-09\",\"2016-10\",\"2016-11\",\"2016-12\",\"2017-01\",\"2017-02\",\"2017-03\",\"2017-04\",\"2017-05\",\"2017-06\",\"2017-07\",\"2017-08\",\"2017-09\",\"2017-10\",\"2017-11\",\"2017-12\",\"2018-01\",\"2018-02\",\"2018-03\",\"2018-04\",\"2018-05\",\"2018-06\",\"2018-07\",\"2018-08\",\"2018-09\",\"2018-10\",\"2018-11\",\"2018-12\",\"2019-01\",\"2019-02\",\"2019-03\",\"2019-04\",\"2019-05\",\"2019-06\",\"2019-07\",\"2019-08\",\"2019-09\",\"2019-10\",\"2019-11\",\"2019-12\",\"2020-01\",\"2020-02\",\"2020-03\",\"2020-04\",\"2020-05\",\"2020-06\",\"2020-07\",\"2020-08\",\"2020-09\",\"2020-10\",\"2020-11\",\"2020-12\"],\"tags\":[[[\"Year_Month\",\"Year_Month\",null]]]},\"id\":\"90686\",\"type\":\"FactorRange\"},{\"attributes\":{\"desired_num_ticks\":0},\"id\":\"90727\",\"type\":\"BasicTicker\"},{\"attributes\":{\"data\":{\"Frequency\":[11965,12860,15858,15069,12356,13003,11371,9940,10188,10583,13012,13442,14252,14569,15075,13451,13618,13526,11487,9214,9686,9930,11487,12903,12173,12687,13414,13356,11538,13018,9456,8427,8404,8691,10693,9919,11513,10781,12324,11753,11580,12198,9094,8984,8745,8357,10386,10579,10646,10295,10597,10981,9623,11258,8757,8013,8217,7786,8486,9042,10093,9342,9940,9395,8118,8677,7374,6526,6687,7622,8015,8342,8027,8265,9437,8887,7808,8378,6512,3681,7031,6371,7506,16413,16139,11101,6025,10326,9798,12256,10156,7509],\"Year_Month\":[\"2013-05\",\"2013-06\",\"2013-07\",\"2013-08\",\"2013-09\",\"2013-10\",\"2013-11\",\"2013-12\",\"2014-01\",\"2014-02\",\"2014-03\",\"2014-04\",\"2014-05\",\"2014-06\",\"2014-07\",\"2014-08\",\"2014-09\",\"2014-10\",\"2014-11\",\"2014-12\",\"2015-01\",\"2015-02\",\"2015-03\",\"2015-04\",\"2015-05\",\"2015-06\",\"2015-07\",\"2015-08\",\"2015-09\",\"2015-10\",\"2015-11\",\"2015-12\",\"2016-01\",\"2016-02\",\"2016-03\",\"2016-04\",\"2016-05\",\"2016-06\",\"2016-07\",\"2016-08\",\"2016-09\",\"2016-10\",\"2016-11\",\"2016-12\",\"2017-01\",\"2017-02\",\"2017-03\",\"2017-04\",\"2017-05\",\"2017-06\",\"2017-07\",\"2017-08\",\"2017-09\",\"2017-10\",\"2017-11\",\"2017-12\",\"2018-01\",\"2018-02\",\"2018-03\",\"2018-04\",\"2018-05\",\"2018-06\",\"2018-07\",\"2018-08\",\"2018-09\",\"2018-10\",\"2018-11\",\"2018-12\",\"2019-01\",\"2019-02\",\"2019-03\",\"2019-04\",\"2019-05\",\"2019-06\",\"2019-07\",\"2019-08\",\"2019-09\",\"2019-10\",\"2019-11\",\"2019-12\",\"2020-01\",\"2020-02\",\"2020-03\",\"2020-04\",\"2020-05\",\"2020-06\",\"2020-07\",\"2020-08\",\"2020-09\",\"2020-10\",\"2020-11\",\"2020-12\"]},\"selected\":{\"id\":\"90719\"},\"selection_policy\":{\"id\":\"90742\"}},\"id\":\"90718\",\"type\":\"ColumnDataSource\"},{\"attributes\":{\"below\":[{\"id\":\"90698\"}],\"center\":[{\"id\":\"90700\"},{\"id\":\"90704\"}],\"height\":300,\"left\":[{\"id\":\"90701\"}],\"margin\":[5,5,5,5],\"min_border_bottom\":10,\"min_border_left\":10,\"min_border_right\":10,\"min_border_top\":10,\"renderers\":[{\"id\":\"90724\"}],\"sizing_mode\":\"fixed\",\"title\":{\"id\":\"90690\"},\"toolbar\":{\"id\":\"90711\"},\"width\":700,\"x_range\":{\"id\":\"90686\"},\"x_scale\":{\"id\":\"90694\"},\"y_range\":{\"id\":\"90687\"},\"y_scale\":{\"id\":\"90696\"}},\"id\":\"90689\",\"subtype\":\"Figure\",\"type\":\"Plot\"},{\"attributes\":{\"source\":{\"id\":\"90718\"}},\"id\":\"90725\",\"type\":\"CDSView\"},{\"attributes\":{\"children\":[{\"id\":\"90681\"},{\"id\":\"90689\"}],\"margin\":[0,0,0,0],\"name\":\"Column311472\"},\"id\":\"90680\",\"type\":\"Column\"},{\"attributes\":{\"tools\":[{\"id\":\"90688\"},{\"id\":\"90705\"},{\"id\":\"90706\"},{\"id\":\"90707\"},{\"id\":\"90708\"},{\"id\":\"90709\"}]},\"id\":\"90711\",\"type\":\"Toolbar\"},{\"attributes\":{\"line_alpha\":0.1,\"line_color\":\"#30a2da\",\"line_width\":2,\"x\":{\"field\":\"Year_Month\"},\"y\":{\"field\":\"Frequency\"}},\"id\":\"90722\",\"type\":\"Line\"},{\"attributes\":{},\"id\":\"90735\",\"type\":\"AllLabels\"},{\"attributes\":{\"axis_label\":\"Frequency\",\"axis_label_text_font_size\":\"10pt\",\"coordinates\":null,\"formatter\":{\"id\":\"90734\"},\"group\":null,\"major_label_policy\":{\"id\":\"90735\"},\"ticker\":{\"id\":\"90702\"}},\"id\":\"90701\",\"type\":\"LinearAxis\"},{\"attributes\":{\"axis_label\":\"Year_Month\",\"axis_label_text_font_size\":\"10pt\",\"coordinates\":null,\"formatter\":{\"id\":\"90729\"},\"group\":null,\"major_label_policy\":{\"id\":\"90730\"},\"ticker\":{\"id\":\"90727\"}},\"id\":\"90698\",\"type\":\"CategoricalAxis\"},{\"attributes\":{\"end\":17686.2,\"reset_end\":17686.2,\"reset_start\":2407.8,\"start\":2407.8,\"tags\":[[[\"Frequency\",\"Frequency\",null]]]},\"id\":\"90687\",\"type\":\"Range1d\"},{\"attributes\":{\"axis\":{\"id\":\"90701\"},\"coordinates\":null,\"dimension\":1,\"grid_line_color\":null,\"group\":null,\"ticker\":null},\"id\":\"90704\",\"type\":\"Grid\"},{\"attributes\":{},\"id\":\"90719\",\"type\":\"Selection\"},{\"attributes\":{\"margin\":[5,5,5,5],\"name\":\"HSpacer311465\",\"sizing_mode\":\"stretch_width\"},\"id\":\"90685\",\"type\":\"Spacer\"},{\"attributes\":{\"coordinates\":null,\"group\":null,\"text\":\"Crime Frequency plot for selected Region and Crime type\",\"text_color\":\"black\",\"text_font_size\":\"10pt\"},\"id\":\"90690\",\"type\":\"Title\"},{\"attributes\":{\"client_comm_id\":\"71a5111488b6437f83c410846094b788\",\"comm_id\":\"21a1b517b81d4acabbd9bb85b3c68e5f\",\"plot_id\":\"90679\"},\"id\":\"90781\",\"type\":\"panel.models.comm_manager.CommManager\"},{\"attributes\":{\"margin\":[5,10,5,10],\"options\":[\"North East\",\"North West\",\"Yorkshire and The Humber\",\"East Midlands\",\"West Midlands\",\"South West\",\"East of England\",\"South East\",\"London\"],\"title\":\"Select Region\",\"value\":\"North East\"},\"id\":\"90683\",\"type\":\"Select\"},{\"attributes\":{\"line_alpha\":0.2,\"line_color\":\"#30a2da\",\"line_width\":2,\"x\":{\"field\":\"Year_Month\"},\"y\":{\"field\":\"Frequency\"}},\"id\":\"90723\",\"type\":\"Line\"},{\"attributes\":{\"bottom_units\":\"screen\",\"coordinates\":null,\"fill_alpha\":0.5,\"fill_color\":\"lightgrey\",\"group\":null,\"left_units\":\"screen\",\"level\":\"overlay\",\"line_alpha\":1.0,\"line_color\":\"black\",\"line_dash\":[4,4],\"line_width\":2,\"right_units\":\"screen\",\"syncable\":false,\"top_units\":\"screen\"},\"id\":\"90710\",\"type\":\"BoxAnnotation\"},{\"attributes\":{\"line_color\":\"#30a2da\",\"line_width\":2,\"x\":{\"field\":\"Year_Month\"},\"y\":{\"field\":\"Frequency\"}},\"id\":\"90726\",\"type\":\"Line\"},{\"attributes\":{},\"id\":\"90734\",\"type\":\"BasicTickFormatter\"},{\"attributes\":{},\"id\":\"90709\",\"type\":\"ResetTool\"},{\"attributes\":{},\"id\":\"90729\",\"type\":\"CategoricalTickFormatter\"},{\"attributes\":{\"children\":[{\"id\":\"90683\"},{\"id\":\"90684\"}],\"margin\":[0,0,0,0],\"name\":\"Column311461\"},\"id\":\"90682\",\"type\":\"Column\"},{\"attributes\":{\"overlay\":{\"id\":\"90710\"}},\"id\":\"90708\",\"type\":\"BoxZoomTool\"},{\"attributes\":{\"children\":[{\"id\":\"90680\"}],\"margin\":[0,0,0,0],\"name\":\"Row311473\"},\"id\":\"90679\",\"type\":\"Row\"},{\"attributes\":{},\"id\":\"90705\",\"type\":\"SaveTool\"},{\"attributes\":{},\"id\":\"90706\",\"type\":\"PanTool\"},{\"attributes\":{},\"id\":\"90702\",\"type\":\"BasicTicker\"},{\"attributes\":{\"margin\":[5,10,5,10],\"options\":[\"Anti-social behaviour\",\"Bicycle theft\",\"Burglary\",\"Criminal damage and arson\",\"Drugs\",\"Other crime\",\"Other theft\",\"Possession of weapons\",\"Public order\",\"Robbery\",\"Shoplifting\",\"Theft from the person\",\"Vehicle crime\",\"Violence and sexual offences\"],\"title\":\"Select Crime Type\",\"value\":\"Anti-social behaviour\"},\"id\":\"90684\",\"type\":\"Select\"},{\"attributes\":{\"line_color\":\"#30a2da\",\"line_width\":2,\"x\":{\"field\":\"Year_Month\"},\"y\":{\"field\":\"Frequency\"}},\"id\":\"90721\",\"type\":\"Line\"},{\"attributes\":{},\"id\":\"90707\",\"type\":\"WheelZoomTool\"},{\"attributes\":{\"axis\":{\"id\":\"90698\"},\"coordinates\":null,\"grid_line_color\":null,\"group\":null,\"ticker\":null},\"id\":\"90700\",\"type\":\"Grid\"}],\"root_ids\":[\"90679\",\"90781\"]},\"title\":\"Bokeh Application\",\"version\":\"2.4.2\"}};\n",
       "    var render_items = [{\"docid\":\"2e53b4a5-8fb7-41e4-98f1-ef16339cb967\",\"root_ids\":[\"90679\"],\"roots\":{\"90679\":\"9b8a8642-23af-4b00-b8ea-cd201ccae13e\"}}];\n",
       "    root.Bokeh.embed.embed_items_notebook(docs_json, render_items);\n",
       "  }\n",
       "  if (root.Bokeh !== undefined && root.Bokeh.Panel !== undefined && ( root['Tabulator'] !== undefined)) {\n",
       "    embed_document(root);\n",
       "  } else {\n",
       "    var attempts = 0;\n",
       "    var timer = setInterval(function(root) {\n",
       "      if (root.Bokeh !== undefined && root.Bokeh.Panel !== undefined && (root['Tabulator'] !== undefined)) {\n",
       "        clearInterval(timer);\n",
       "        embed_document(root);\n",
       "      } else if (document.readyState == \"complete\") {\n",
       "        attempts++;\n",
       "        if (attempts > 200) {\n",
       "          clearInterval(timer);\n",
       "          console.log(\"Bokeh: ERROR: Unable to run BokehJS code because BokehJS library is missing\");\n",
       "        }\n",
       "      }\n",
       "    }, 25, root)\n",
       "  }\n",
       "})(window);</script>"
      ],
      "text/plain": [
       "<hvplot.interactive.Interactive at 0x24123ef8190>"
      ]
     },
     "execution_count": 132,
     "metadata": {
      "application/vnd.holoviews_exec.v0+json": {
       "id": "90679"
      }
     },
     "output_type": "execute_result"
    }
   ],
   "source": [
    "rgn_nm=\"Total Crime Frequency plot for \"+str(select_rgn.value)+\" Region across 2013-2020\"\n",
    "\n",
    "crrgn_plot = crimergn_pipeline.hvplot(x = 'Year_Month', y='Frequency',legend=False,xticks=0,line_width=2,fontsize=10, title=\"Crime Frequency plot for selected Region and Crime type\")\n",
    "crrgn_plot"
   ]
  },
  {
   "cell_type": "code",
   "execution_count": 133,
   "id": "0bdd294a",
   "metadata": {},
   "outputs": [],
   "source": [
    "crimetyp1_pipeline = (\n",
    "    idf[(idf.Crime_Type == select_typ )].groupby(['Year_Month'])['Frequency'].sum()\n",
    "    .to_frame()\n",
    "    .reset_index()\n",
    "    .sort_values(by='Year_Month') \n",
    "    .reset_index(drop=True)\n",
    ")"
   ]
  },
  {
   "cell_type": "code",
   "execution_count": 134,
   "id": "5de99435",
   "metadata": {},
   "outputs": [
    {
     "data": {},
     "metadata": {},
     "output_type": "display_data"
    },
    {
     "data": {},
     "metadata": {},
     "output_type": "display_data"
    },
    {
     "data": {
      "application/vnd.holoviews_exec.v0+json": "",
      "text/html": [
       "<div id='90827'>\n",
       "\n",
       "\n",
       "\n",
       "\n",
       "\n",
       "  <div class=\"bk-root\" id=\"0f591bf6-d907-4dac-bb90-b1e51c1e9ab0\" data-root-id=\"90827\"></div>\n",
       "</div>\n",
       "<script type=\"application/javascript\">(function(root) {\n",
       "  function embed_document(root) {\n",
       "    var docs_json = {\"72189556-4625-40d1-aca0-f1c6454ce1da\":{\"defs\":[{\"extends\":null,\"module\":null,\"name\":\"ReactiveHTML1\",\"overrides\":[],\"properties\":[]},{\"extends\":null,\"module\":null,\"name\":\"FlexBox1\",\"overrides\":[],\"properties\":[{\"default\":\"flex-start\",\"kind\":null,\"name\":\"align_content\"},{\"default\":\"flex-start\",\"kind\":null,\"name\":\"align_items\"},{\"default\":\"row\",\"kind\":null,\"name\":\"flex_direction\"},{\"default\":\"wrap\",\"kind\":null,\"name\":\"flex_wrap\"},{\"default\":\"flex-start\",\"kind\":null,\"name\":\"justify_content\"}]},{\"extends\":null,\"module\":null,\"name\":\"TemplateActions1\",\"overrides\":[],\"properties\":[{\"default\":0,\"kind\":null,\"name\":\"open_modal\"},{\"default\":0,\"kind\":null,\"name\":\"close_modal\"}]},{\"extends\":null,\"module\":null,\"name\":\"MaterialTemplateActions1\",\"overrides\":[],\"properties\":[{\"default\":0,\"kind\":null,\"name\":\"open_modal\"},{\"default\":0,\"kind\":null,\"name\":\"close_modal\"}]}],\"roots\":{\"references\":[{\"attributes\":{},\"id\":\"90889\",\"type\":\"UnionRenderers\"},{\"attributes\":{\"children\":[{\"id\":\"90830\"},{\"id\":\"90832\"}],\"margin\":[0,0,0,0],\"name\":\"Row312000\"},\"id\":\"90829\",\"type\":\"Row\"},{\"attributes\":{\"axis\":{\"id\":\"90848\"},\"coordinates\":null,\"dimension\":1,\"grid_line_color\":null,\"group\":null,\"ticker\":null},\"id\":\"90851\",\"type\":\"Grid\"},{\"attributes\":{\"below\":[{\"id\":\"90845\"}],\"center\":[{\"id\":\"90847\"},{\"id\":\"90851\"}],\"height\":300,\"left\":[{\"id\":\"90848\"}],\"margin\":[5,5,5,5],\"min_border_bottom\":10,\"min_border_left\":10,\"min_border_right\":10,\"min_border_top\":10,\"renderers\":[{\"id\":\"90871\"}],\"sizing_mode\":\"fixed\",\"title\":{\"id\":\"90837\"},\"toolbar\":{\"id\":\"90858\"},\"width\":700,\"x_range\":{\"id\":\"90833\"},\"x_scale\":{\"id\":\"90841\"},\"y_range\":{\"id\":\"90834\"},\"y_scale\":{\"id\":\"90843\"}},\"id\":\"90836\",\"subtype\":\"Figure\",\"type\":\"Plot\"},{\"attributes\":{},\"id\":\"90843\",\"type\":\"LinearScale\"},{\"attributes\":{\"margin\":[5,10,5,10],\"options\":[\"Anti-social behaviour\",\"Bicycle theft\",\"Burglary\",\"Criminal damage and arson\",\"Drugs\",\"Other crime\",\"Other theft\",\"Possession of weapons\",\"Public order\",\"Robbery\",\"Shoplifting\",\"Theft from the person\",\"Vehicle crime\",\"Violence and sexual offences\"],\"title\":\"Select Crime Type\",\"value\":\"Anti-social behaviour\"},\"id\":\"90831\",\"type\":\"Select\"},{\"attributes\":{\"callback\":null,\"renderers\":[{\"id\":\"90871\"}],\"tags\":[\"hv_created\"],\"tooltips\":[[\"Year_Month\",\"@{Year_Month}\"],[\"Frequency\",\"@{Frequency}\"]]},\"id\":\"90835\",\"type\":\"HoverTool\"},{\"attributes\":{\"end\":239226.0,\"reset_end\":239226.0,\"reset_start\":59802.0,\"start\":59802.0,\"tags\":[[[\"Frequency\",\"Frequency\",null]]]},\"id\":\"90834\",\"type\":\"Range1d\"},{\"attributes\":{\"desired_num_ticks\":0},\"id\":\"90874\",\"type\":\"BasicTicker\"},{\"attributes\":{\"axis_label\":\"Year_Month\",\"coordinates\":null,\"formatter\":{\"id\":\"90876\"},\"group\":null,\"major_label_policy\":{\"id\":\"90877\"},\"ticker\":{\"id\":\"90874\"}},\"id\":\"90845\",\"type\":\"CategoricalAxis\"},{\"attributes\":{},\"id\":\"90866\",\"type\":\"Selection\"},{\"attributes\":{},\"id\":\"90854\",\"type\":\"WheelZoomTool\"},{\"attributes\":{\"children\":[{\"id\":\"90831\"}],\"margin\":[0,0,0,0],\"name\":\"Column311995\"},\"id\":\"90830\",\"type\":\"Column\"},{\"attributes\":{\"data\":{\"Frequency\":[172711,182271,224274,206004,161867,164490,145347,129527,126733,122766,153274,160154,167203,178163,198481,168263,166031,157793,137274,119094,119835,119747,138206,151344,152625,160159,169777,165672,140933,151729,124569,117842,116996,115969,132711,135062,155056,153811,173418,167687,153637,155011,119864,116657,113576,111725,135027,141394,143575,142418,150675,146636,124133,138177,111432,100343,98761,92195,103848,111952,121322,121747,130237,119407,101936,106835,89571,83585,88191,90394,101212,107993,111108,111502,123506,115706,97088,99244,84534,74754,82112,78759,101532,203363,206067,163119,141664,145907,124407,131396,126915,110940],\"Year_Month\":[\"2013-05\",\"2013-06\",\"2013-07\",\"2013-08\",\"2013-09\",\"2013-10\",\"2013-11\",\"2013-12\",\"2014-01\",\"2014-02\",\"2014-03\",\"2014-04\",\"2014-05\",\"2014-06\",\"2014-07\",\"2014-08\",\"2014-09\",\"2014-10\",\"2014-11\",\"2014-12\",\"2015-01\",\"2015-02\",\"2015-03\",\"2015-04\",\"2015-05\",\"2015-06\",\"2015-07\",\"2015-08\",\"2015-09\",\"2015-10\",\"2015-11\",\"2015-12\",\"2016-01\",\"2016-02\",\"2016-03\",\"2016-04\",\"2016-05\",\"2016-06\",\"2016-07\",\"2016-08\",\"2016-09\",\"2016-10\",\"2016-11\",\"2016-12\",\"2017-01\",\"2017-02\",\"2017-03\",\"2017-04\",\"2017-05\",\"2017-06\",\"2017-07\",\"2017-08\",\"2017-09\",\"2017-10\",\"2017-11\",\"2017-12\",\"2018-01\",\"2018-02\",\"2018-03\",\"2018-04\",\"2018-05\",\"2018-06\",\"2018-07\",\"2018-08\",\"2018-09\",\"2018-10\",\"2018-11\",\"2018-12\",\"2019-01\",\"2019-02\",\"2019-03\",\"2019-04\",\"2019-05\",\"2019-06\",\"2019-07\",\"2019-08\",\"2019-09\",\"2019-10\",\"2019-11\",\"2019-12\",\"2020-01\",\"2020-02\",\"2020-03\",\"2020-04\",\"2020-05\",\"2020-06\",\"2020-07\",\"2020-08\",\"2020-09\",\"2020-10\",\"2020-11\",\"2020-12\"]},\"selected\":{\"id\":\"90866\"},\"selection_policy\":{\"id\":\"90889\"}},\"id\":\"90865\",\"type\":\"ColumnDataSource\"},{\"attributes\":{\"line_alpha\":0.2,\"line_color\":\"#30a2da\",\"line_width\":2,\"x\":{\"field\":\"Year_Month\"},\"y\":{\"field\":\"Frequency\"}},\"id\":\"90870\",\"type\":\"Line\"},{\"attributes\":{},\"id\":\"90881\",\"type\":\"BasicTickFormatter\"},{\"attributes\":{\"factors\":[\"2013-05\",\"2013-06\",\"2013-07\",\"2013-08\",\"2013-09\",\"2013-10\",\"2013-11\",\"2013-12\",\"2014-01\",\"2014-02\",\"2014-03\",\"2014-04\",\"2014-05\",\"2014-06\",\"2014-07\",\"2014-08\",\"2014-09\",\"2014-10\",\"2014-11\",\"2014-12\",\"2015-01\",\"2015-02\",\"2015-03\",\"2015-04\",\"2015-05\",\"2015-06\",\"2015-07\",\"2015-08\",\"2015-09\",\"2015-10\",\"2015-11\",\"2015-12\",\"2016-01\",\"2016-02\",\"2016-03\",\"2016-04\",\"2016-05\",\"2016-06\",\"2016-07\",\"2016-08\",\"2016-09\",\"2016-10\",\"2016-11\",\"2016-12\",\"2017-01\",\"2017-02\",\"2017-03\",\"2017-04\",\"2017-05\",\"2017-06\",\"2017-07\",\"2017-08\",\"2017-09\",\"2017-10\",\"2017-11\",\"2017-12\",\"2018-01\",\"2018-02\",\"2018-03\",\"2018-04\",\"2018-05\",\"2018-06\",\"2018-07\",\"2018-08\",\"2018-09\",\"2018-10\",\"2018-11\",\"2018-12\",\"2019-01\",\"2019-02\",\"2019-03\",\"2019-04\",\"2019-05\",\"2019-06\",\"2019-07\",\"2019-08\",\"2019-09\",\"2019-10\",\"2019-11\",\"2019-12\",\"2020-01\",\"2020-02\",\"2020-03\",\"2020-04\",\"2020-05\",\"2020-06\",\"2020-07\",\"2020-08\",\"2020-09\",\"2020-10\",\"2020-11\",\"2020-12\"],\"tags\":[[[\"Year_Month\",\"Year_Month\",null]]]},\"id\":\"90833\",\"type\":\"FactorRange\"},{\"attributes\":{\"source\":{\"id\":\"90865\"}},\"id\":\"90872\",\"type\":\"CDSView\"},{\"attributes\":{},\"id\":\"90849\",\"type\":\"BasicTicker\"},{\"attributes\":{\"children\":[{\"id\":\"90828\"}],\"margin\":[0,0,0,0],\"name\":\"Row312007\"},\"id\":\"90827\",\"type\":\"Row\"},{\"attributes\":{\"margin\":[5,5,5,5],\"name\":\"HSpacer311999\",\"sizing_mode\":\"stretch_width\"},\"id\":\"90832\",\"type\":\"Spacer\"},{\"attributes\":{\"axis_label\":\"Frequency\",\"coordinates\":null,\"formatter\":{\"id\":\"90881\"},\"group\":null,\"major_label_policy\":{\"id\":\"90882\"},\"ticker\":{\"id\":\"90849\"}},\"id\":\"90848\",\"type\":\"LinearAxis\"},{\"attributes\":{\"line_alpha\":0.1,\"line_color\":\"#30a2da\",\"line_width\":2,\"x\":{\"field\":\"Year_Month\"},\"y\":{\"field\":\"Frequency\"}},\"id\":\"90869\",\"type\":\"Line\"},{\"attributes\":{},\"id\":\"90853\",\"type\":\"PanTool\"},{\"attributes\":{},\"id\":\"90856\",\"type\":\"ResetTool\"},{\"attributes\":{\"tools\":[{\"id\":\"90835\"},{\"id\":\"90852\"},{\"id\":\"90853\"},{\"id\":\"90854\"},{\"id\":\"90855\"},{\"id\":\"90856\"}]},\"id\":\"90858\",\"type\":\"Toolbar\"},{\"attributes\":{},\"id\":\"90841\",\"type\":\"CategoricalScale\"},{\"attributes\":{\"line_color\":\"#30a2da\",\"line_width\":2,\"x\":{\"field\":\"Year_Month\"},\"y\":{\"field\":\"Frequency\"}},\"id\":\"90868\",\"type\":\"Line\"},{\"attributes\":{},\"id\":\"90852\",\"type\":\"SaveTool\"},{\"attributes\":{\"client_comm_id\":\"95b92f5f339c4fc98292da8e087bac19\",\"comm_id\":\"aa691857ebd14cd3960b455476d44450\",\"plot_id\":\"90827\"},\"id\":\"90928\",\"type\":\"panel.models.comm_manager.CommManager\"},{\"attributes\":{\"axis\":{\"id\":\"90845\"},\"coordinates\":null,\"grid_line_color\":null,\"group\":null,\"ticker\":null},\"id\":\"90847\",\"type\":\"Grid\"},{\"attributes\":{\"line_color\":\"#30a2da\",\"line_width\":2,\"x\":{\"field\":\"Year_Month\"},\"y\":{\"field\":\"Frequency\"}},\"id\":\"90873\",\"type\":\"Line\"},{\"attributes\":{},\"id\":\"90877\",\"type\":\"AllLabels\"},{\"attributes\":{\"children\":[{\"id\":\"90829\"},{\"id\":\"90836\"}],\"margin\":[0,0,0,0],\"name\":\"Column312006\"},\"id\":\"90828\",\"type\":\"Column\"},{\"attributes\":{},\"id\":\"90882\",\"type\":\"AllLabels\"},{\"attributes\":{\"coordinates\":null,\"data_source\":{\"id\":\"90865\"},\"glyph\":{\"id\":\"90868\"},\"group\":null,\"hover_glyph\":null,\"muted_glyph\":{\"id\":\"90870\"},\"nonselection_glyph\":{\"id\":\"90869\"},\"selection_glyph\":{\"id\":\"90873\"},\"view\":{\"id\":\"90872\"}},\"id\":\"90871\",\"type\":\"GlyphRenderer\"},{\"attributes\":{\"coordinates\":null,\"group\":null,\"text\":\"Crime Frequency plot for selected crime type across 2013-2020\",\"text_color\":\"black\",\"text_font_size\":\"12pt\"},\"id\":\"90837\",\"type\":\"Title\"},{\"attributes\":{\"overlay\":{\"id\":\"90857\"}},\"id\":\"90855\",\"type\":\"BoxZoomTool\"},{\"attributes\":{},\"id\":\"90876\",\"type\":\"CategoricalTickFormatter\"},{\"attributes\":{\"bottom_units\":\"screen\",\"coordinates\":null,\"fill_alpha\":0.5,\"fill_color\":\"lightgrey\",\"group\":null,\"left_units\":\"screen\",\"level\":\"overlay\",\"line_alpha\":1.0,\"line_color\":\"black\",\"line_dash\":[4,4],\"line_width\":2,\"right_units\":\"screen\",\"syncable\":false,\"top_units\":\"screen\"},\"id\":\"90857\",\"type\":\"BoxAnnotation\"}],\"root_ids\":[\"90827\",\"90928\"]},\"title\":\"Bokeh Application\",\"version\":\"2.4.2\"}};\n",
       "    var render_items = [{\"docid\":\"72189556-4625-40d1-aca0-f1c6454ce1da\",\"root_ids\":[\"90827\"],\"roots\":{\"90827\":\"0f591bf6-d907-4dac-bb90-b1e51c1e9ab0\"}}];\n",
       "    root.Bokeh.embed.embed_items_notebook(docs_json, render_items);\n",
       "  }\n",
       "  if (root.Bokeh !== undefined && root.Bokeh.Panel !== undefined && ( root['Tabulator'] !== undefined)) {\n",
       "    embed_document(root);\n",
       "  } else {\n",
       "    var attempts = 0;\n",
       "    var timer = setInterval(function(root) {\n",
       "      if (root.Bokeh !== undefined && root.Bokeh.Panel !== undefined && (root['Tabulator'] !== undefined)) {\n",
       "        clearInterval(timer);\n",
       "        embed_document(root);\n",
       "      } else if (document.readyState == \"complete\") {\n",
       "        attempts++;\n",
       "        if (attempts > 200) {\n",
       "          clearInterval(timer);\n",
       "          console.log(\"Bokeh: ERROR: Unable to run BokehJS code because BokehJS library is missing\");\n",
       "        }\n",
       "      }\n",
       "    }, 25, root)\n",
       "  }\n",
       "})(window);</script>"
      ],
      "text/plain": [
       "<hvplot.interactive.Interactive at 0x24123e6b4f0>"
      ]
     },
     "execution_count": 134,
     "metadata": {
      "application/vnd.holoviews_exec.v0+json": {
       "id": "90827"
      }
     },
     "output_type": "execute_result"
    }
   ],
   "source": [
    "crtyp1_plot = crimetyp1_pipeline.hvplot(x = 'Year_Month', y='Frequency',legend=False,xticks=0,line_width=2, title=\"Crime Frequency plot for selected crime type across 2013-2020\")\n",
    "crtyp1_plot"
   ]
  },
  {
   "cell_type": "code",
   "execution_count": 135,
   "id": "9f82acbe-edb5-4501-975f-fe4fb1498d67",
   "metadata": {},
   "outputs": [],
   "source": [
    "crimetyp_pipeline = (\n",
    "    idf[(idf.Crime_Type == select_typ )].groupby(['Year_Month','RGN19NM'])['Frequency'].sum()\n",
    "    .to_frame()\n",
    "    .reset_index()\n",
    "    .sort_values(by='Year_Month') \n",
    "    .reset_index(drop=True)\n",
    ")"
   ]
  },
  {
   "cell_type": "code",
   "execution_count": 136,
   "id": "64ed815c-9e7a-4c68-944b-6d3696a99feb",
   "metadata": {
    "scrolled": true
   },
   "outputs": [
    {
     "data": {},
     "metadata": {},
     "output_type": "display_data"
    },
    {
     "data": {},
     "metadata": {},
     "output_type": "display_data"
    },
    {
     "data": {
      "application/vnd.holoviews_exec.v0+json": "",
      "text/html": [
       "<div id='90974'>\n",
       "\n",
       "\n",
       "\n",
       "\n",
       "\n",
       "  <div class=\"bk-root\" id=\"445d2145-d8b3-49d4-aff7-403b562ed6b7\" data-root-id=\"90974\"></div>\n",
       "</div>\n",
       "<script type=\"application/javascript\">(function(root) {\n",
       "  function embed_document(root) {\n",
       "    var docs_json = {\"26a0c27a-1cd7-4274-9587-5be58ab72ecb\":{\"defs\":[{\"extends\":null,\"module\":null,\"name\":\"ReactiveHTML1\",\"overrides\":[],\"properties\":[]},{\"extends\":null,\"module\":null,\"name\":\"FlexBox1\",\"overrides\":[],\"properties\":[{\"default\":\"flex-start\",\"kind\":null,\"name\":\"align_content\"},{\"default\":\"flex-start\",\"kind\":null,\"name\":\"align_items\"},{\"default\":\"row\",\"kind\":null,\"name\":\"flex_direction\"},{\"default\":\"wrap\",\"kind\":null,\"name\":\"flex_wrap\"},{\"default\":\"flex-start\",\"kind\":null,\"name\":\"justify_content\"}]},{\"extends\":null,\"module\":null,\"name\":\"TemplateActions1\",\"overrides\":[],\"properties\":[{\"default\":0,\"kind\":null,\"name\":\"open_modal\"},{\"default\":0,\"kind\":null,\"name\":\"close_modal\"}]},{\"extends\":null,\"module\":null,\"name\":\"MaterialTemplateActions1\",\"overrides\":[],\"properties\":[{\"default\":0,\"kind\":null,\"name\":\"open_modal\"},{\"default\":0,\"kind\":null,\"name\":\"close_modal\"}]}],\"roots\":{\"references\":[{\"attributes\":{\"data\":{\"Frequency\":[13928,14892,18369,16934,13266,12923,11775,10810,10596,10766,12997,13859,14715,15565,17207,14230,14100,13102,11679,10400,10519,10253,12058,12966,12879,13340,14649,14307,12005,12666,10522,10124,10428,10136,11655,11706,13719,13398,15375,14810,13566,12724,9888,9084,9258,9393,11560,12279,12876,12327,13804,12814,11122,12139,9723,9200,8778,8228,9470,10322,12074,11989,13309,11782,9548,9382,8463,7679,8275,8673,9525,9770,9902,9259,10442,10155,8295,8345,7206,6911,7073,7085,8632,18425,21486,14336,12709,11642,10434,10864,10450,8835],\"RGN19NM\":[\"East Midlands\",\"East Midlands\",\"East Midlands\",\"East Midlands\",\"East Midlands\",\"East Midlands\",\"East Midlands\",\"East Midlands\",\"East Midlands\",\"East Midlands\",\"East Midlands\",\"East Midlands\",\"East Midlands\",\"East Midlands\",\"East Midlands\",\"East Midlands\",\"East Midlands\",\"East Midlands\",\"East Midlands\",\"East Midlands\",\"East Midlands\",\"East Midlands\",\"East Midlands\",\"East Midlands\",\"East Midlands\",\"East Midlands\",\"East Midlands\",\"East Midlands\",\"East Midlands\",\"East Midlands\",\"East Midlands\",\"East Midlands\",\"East Midlands\",\"East Midlands\",\"East Midlands\",\"East Midlands\",\"East Midlands\",\"East Midlands\",\"East Midlands\",\"East Midlands\",\"East Midlands\",\"East Midlands\",\"East Midlands\",\"East Midlands\",\"East Midlands\",\"East Midlands\",\"East Midlands\",\"East Midlands\",\"East Midlands\",\"East Midlands\",\"East Midlands\",\"East Midlands\",\"East Midlands\",\"East Midlands\",\"East Midlands\",\"East Midlands\",\"East Midlands\",\"East Midlands\",\"East Midlands\",\"East Midlands\",\"East Midlands\",\"East Midlands\",\"East Midlands\",\"East Midlands\",\"East Midlands\",\"East Midlands\",\"East Midlands\",\"East Midlands\",\"East Midlands\",\"East Midlands\",\"East Midlands\",\"East Midlands\",\"East Midlands\",\"East Midlands\",\"East Midlands\",\"East Midlands\",\"East Midlands\",\"East Midlands\",\"East Midlands\",\"East Midlands\",\"East Midlands\",\"East Midlands\",\"East Midlands\",\"East Midlands\",\"East Midlands\",\"East Midlands\",\"East Midlands\",\"East Midlands\",\"East Midlands\",\"East Midlands\",\"East Midlands\",\"East Midlands\"],\"Year_Month\":[\"2013-05\",\"2013-06\",\"2013-07\",\"2013-08\",\"2013-09\",\"2013-10\",\"2013-11\",\"2013-12\",\"2014-01\",\"2014-02\",\"2014-03\",\"2014-04\",\"2014-05\",\"2014-06\",\"2014-07\",\"2014-08\",\"2014-09\",\"2014-10\",\"2014-11\",\"2014-12\",\"2015-01\",\"2015-02\",\"2015-03\",\"2015-04\",\"2015-05\",\"2015-06\",\"2015-07\",\"2015-08\",\"2015-09\",\"2015-10\",\"2015-11\",\"2015-12\",\"2016-01\",\"2016-02\",\"2016-03\",\"2016-04\",\"2016-05\",\"2016-06\",\"2016-07\",\"2016-08\",\"2016-09\",\"2016-10\",\"2016-11\",\"2016-12\",\"2017-01\",\"2017-02\",\"2017-03\",\"2017-04\",\"2017-05\",\"2017-06\",\"2017-07\",\"2017-08\",\"2017-09\",\"2017-10\",\"2017-11\",\"2017-12\",\"2018-01\",\"2018-02\",\"2018-03\",\"2018-04\",\"2018-05\",\"2018-06\",\"2018-07\",\"2018-08\",\"2018-09\",\"2018-10\",\"2018-11\",\"2018-12\",\"2019-01\",\"2019-02\",\"2019-03\",\"2019-04\",\"2019-05\",\"2019-06\",\"2019-07\",\"2019-08\",\"2019-09\",\"2019-10\",\"2019-11\",\"2019-12\",\"2020-01\",\"2020-02\",\"2020-03\",\"2020-04\",\"2020-05\",\"2020-06\",\"2020-07\",\"2020-08\",\"2020-09\",\"2020-10\",\"2020-11\",\"2020-12\"]},\"selected\":{\"id\":\"91030\"},\"selection_policy\":{\"id\":\"91116\"}},\"id\":\"91029\",\"type\":\"ColumnDataSource\"},{\"attributes\":{\"line_color\":\"#1f77b4\",\"line_width\":2,\"x\":{\"field\":\"Year_Month\"},\"y\":{\"field\":\"Frequency\"}},\"id\":\"91109\",\"type\":\"Line\"},{\"attributes\":{},\"id\":\"91124\",\"type\":\"UnionRenderers\"},{\"attributes\":{},\"id\":\"91093\",\"type\":\"Selection\"},{\"attributes\":{\"line_color\":\"#17becf\",\"line_width\":2,\"x\":{\"field\":\"Year_Month\"},\"y\":{\"field\":\"Frequency\"}},\"id\":\"91082\",\"type\":\"Line\"},{\"attributes\":{\"line_alpha\":0.1,\"line_color\":\"#d62728\",\"line_width\":2,\"x\":{\"field\":\"Year_Month\"},\"y\":{\"field\":\"Frequency\"}},\"id\":\"91096\",\"type\":\"Line\"},{\"attributes\":{\"line_alpha\":0.1,\"line_color\":\"#8b8b8b\",\"line_width\":2,\"x\":{\"field\":\"Year_Month\"},\"y\":{\"field\":\"Frequency\"}},\"id\":\"91069\",\"type\":\"Line\"},{\"attributes\":{\"callback\":null,\"renderers\":[{\"id\":\"91035\"},{\"id\":\"91044\"},{\"id\":\"91053\"},{\"id\":\"91062\"},{\"id\":\"91071\"},{\"id\":\"91080\"},{\"id\":\"91089\"},{\"id\":\"91098\"},{\"id\":\"91107\"}],\"tags\":[\"hv_created\"],\"tooltips\":[[\"RGN19NM\",\"@{RGN19NM}\"],[\"Year_Month\",\"@{Year_Month}\"],[\"Frequency\",\"@{Frequency}\"]]},\"id\":\"90982\",\"type\":\"HoverTool\"},{\"attributes\":{\"line_color\":\"#fc4f30\",\"line_width\":2,\"x\":{\"field\":\"Year_Month\"},\"y\":{\"field\":\"Frequency\"}},\"id\":\"91041\",\"type\":\"Line\"},{\"attributes\":{\"line_color\":\"#30a2da\",\"line_width\":2,\"x\":{\"field\":\"Year_Month\"},\"y\":{\"field\":\"Frequency\"}},\"id\":\"91037\",\"type\":\"Line\"},{\"attributes\":{\"line_alpha\":0.2,\"line_color\":\"#9467bd\",\"line_width\":2,\"x\":{\"field\":\"Year_Month\"},\"y\":{\"field\":\"Frequency\"}},\"id\":\"91088\",\"type\":\"Line\"},{\"attributes\":{\"axis_label\":\"Year_Month\",\"coordinates\":null,\"formatter\":{\"id\":\"91022\"},\"group\":null,\"major_label_policy\":{\"id\":\"91023\"},\"ticker\":{\"id\":\"91020\"}},\"id\":\"91000\",\"type\":\"CategoricalAxis\"},{\"attributes\":{\"line_color\":\"#6d904f\",\"line_width\":2,\"x\":{\"field\":\"Year_Month\"},\"y\":{\"field\":\"Frequency\"}},\"id\":\"91064\",\"type\":\"Line\"},{\"attributes\":{},\"id\":\"91007\",\"type\":\"SaveTool\"},{\"attributes\":{\"data\":{\"Frequency\":[16878,17697,21834,20032,16126,15315,13718,12694,12095,11449,14196,14008,15225,16492,18045,14763,15053,13664,11825,11680,11191,11236,12829,13697,13775,14465,15218,14871,12317,12962,11092,10595,10119,9590,11327,11594,13070,13214,14720,14470,12701,12661,10219,10620,10271,10425,12495,13444,13604,14297,14997,14545,11872,12928,10572,9825,9582,8882,10537,11415,12971,13458,14554,13581,11383,11160,9651,9093,9220,9150,10489,10716,11289,11118,12838,11932,10340,9813,8616,7755,8089,7910,9886,15682,16476,14619,14430,14628,11949,11343,10636,10248],\"RGN19NM\":[\"South West\",\"South West\",\"South West\",\"South West\",\"South West\",\"South West\",\"South West\",\"South West\",\"South West\",\"South West\",\"South West\",\"South West\",\"South West\",\"South West\",\"South West\",\"South West\",\"South West\",\"South West\",\"South West\",\"South West\",\"South West\",\"South West\",\"South West\",\"South West\",\"South West\",\"South West\",\"South West\",\"South West\",\"South West\",\"South West\",\"South West\",\"South West\",\"South West\",\"South West\",\"South West\",\"South West\",\"South West\",\"South West\",\"South West\",\"South West\",\"South West\",\"South West\",\"South West\",\"South West\",\"South West\",\"South West\",\"South West\",\"South West\",\"South West\",\"South West\",\"South West\",\"South West\",\"South West\",\"South West\",\"South West\",\"South West\",\"South West\",\"South West\",\"South West\",\"South West\",\"South West\",\"South West\",\"South West\",\"South West\",\"South West\",\"South West\",\"South West\",\"South West\",\"South West\",\"South West\",\"South West\",\"South West\",\"South West\",\"South West\",\"South West\",\"South West\",\"South West\",\"South West\",\"South West\",\"South West\",\"South West\",\"South West\",\"South West\",\"South West\",\"South West\",\"South West\",\"South West\",\"South West\",\"South West\",\"South West\",\"South West\",\"South West\"],\"Year_Month\":[\"2013-05\",\"2013-06\",\"2013-07\",\"2013-08\",\"2013-09\",\"2013-10\",\"2013-11\",\"2013-12\",\"2014-01\",\"2014-02\",\"2014-03\",\"2014-04\",\"2014-05\",\"2014-06\",\"2014-07\",\"2014-08\",\"2014-09\",\"2014-10\",\"2014-11\",\"2014-12\",\"2015-01\",\"2015-02\",\"2015-03\",\"2015-04\",\"2015-05\",\"2015-06\",\"2015-07\",\"2015-08\",\"2015-09\",\"2015-10\",\"2015-11\",\"2015-12\",\"2016-01\",\"2016-02\",\"2016-03\",\"2016-04\",\"2016-05\",\"2016-06\",\"2016-07\",\"2016-08\",\"2016-09\",\"2016-10\",\"2016-11\",\"2016-12\",\"2017-01\",\"2017-02\",\"2017-03\",\"2017-04\",\"2017-05\",\"2017-06\",\"2017-07\",\"2017-08\",\"2017-09\",\"2017-10\",\"2017-11\",\"2017-12\",\"2018-01\",\"2018-02\",\"2018-03\",\"2018-04\",\"2018-05\",\"2018-06\",\"2018-07\",\"2018-08\",\"2018-09\",\"2018-10\",\"2018-11\",\"2018-12\",\"2019-01\",\"2019-02\",\"2019-03\",\"2019-04\",\"2019-05\",\"2019-06\",\"2019-07\",\"2019-08\",\"2019-09\",\"2019-10\",\"2019-11\",\"2019-12\",\"2020-01\",\"2020-02\",\"2020-03\",\"2020-04\",\"2020-05\",\"2020-06\",\"2020-07\",\"2020-08\",\"2020-09\",\"2020-10\",\"2020-11\",\"2020-12\"]},\"selected\":{\"id\":\"91084\"},\"selection_policy\":{\"id\":\"91128\"}},\"id\":\"91083\",\"type\":\"ColumnDataSource\"},{\"attributes\":{\"source\":{\"id\":\"91101\"}},\"id\":\"91108\",\"type\":\"CDSView\"},{\"attributes\":{\"source\":{\"id\":\"91047\"}},\"id\":\"91054\",\"type\":\"CDSView\"},{\"attributes\":{\"source\":{\"id\":\"91065\"}},\"id\":\"91072\",\"type\":\"CDSView\"},{\"attributes\":{\"factors\":[\"2013-05\",\"2013-06\",\"2013-07\",\"2013-08\",\"2013-09\",\"2013-10\",\"2013-11\",\"2013-12\",\"2014-01\",\"2014-02\",\"2014-03\",\"2014-04\",\"2014-05\",\"2014-06\",\"2014-07\",\"2014-08\",\"2014-09\",\"2014-10\",\"2014-11\",\"2014-12\",\"2015-01\",\"2015-02\",\"2015-03\",\"2015-04\",\"2015-05\",\"2015-06\",\"2015-07\",\"2015-08\",\"2015-09\",\"2015-10\",\"2015-11\",\"2015-12\",\"2016-01\",\"2016-02\",\"2016-03\",\"2016-04\",\"2016-05\",\"2016-06\",\"2016-07\",\"2016-08\",\"2016-09\",\"2016-10\",\"2016-11\",\"2016-12\",\"2017-01\",\"2017-02\",\"2017-03\",\"2017-04\",\"2017-05\",\"2017-06\",\"2017-07\",\"2017-08\",\"2017-09\",\"2017-10\",\"2017-11\",\"2017-12\",\"2018-01\",\"2018-02\",\"2018-03\",\"2018-04\",\"2018-05\",\"2018-06\",\"2018-07\",\"2018-08\",\"2018-09\",\"2018-10\",\"2018-11\",\"2018-12\",\"2019-01\",\"2019-02\",\"2019-03\",\"2019-04\",\"2019-05\",\"2019-06\",\"2019-07\",\"2019-08\",\"2019-09\",\"2019-10\",\"2019-11\",\"2019-12\",\"2020-01\",\"2020-02\",\"2020-03\",\"2020-04\",\"2020-05\",\"2020-06\",\"2020-07\",\"2020-08\",\"2020-09\",\"2020-10\",\"2020-11\",\"2020-12\"],\"tags\":[[[\"Year_Month\",\"Year_Month\",null]]]},\"id\":\"90980\",\"type\":\"FactorRange\"},{\"attributes\":{\"line_alpha\":0.2,\"line_color\":\"#6d904f\",\"line_width\":2,\"x\":{\"field\":\"Year_Month\"},\"y\":{\"field\":\"Frequency\"}},\"id\":\"91061\",\"type\":\"Line\"},{\"attributes\":{\"children\":[{\"id\":\"90975\"}],\"margin\":[0,0,0,0],\"name\":\"Row312704\"},\"id\":\"90974\",\"type\":\"Row\"},{\"attributes\":{\"margin\":[5,5,5,5],\"name\":\"HSpacer312696\",\"sizing_mode\":\"stretch_width\"},\"id\":\"90979\",\"type\":\"Spacer\"},{\"attributes\":{\"line_color\":\"#17becf\",\"line_width\":2,\"x\":{\"field\":\"Year_Month\"},\"y\":{\"field\":\"Frequency\"}},\"id\":\"91077\",\"type\":\"Line\"},{\"attributes\":{\"line_color\":\"#e5ae38\",\"line_width\":2,\"x\":{\"field\":\"Year_Month\"},\"y\":{\"field\":\"Frequency\"}},\"id\":\"91050\",\"type\":\"Line\"},{\"attributes\":{\"line_alpha\":0.1,\"line_color\":\"#30a2da\",\"line_width\":2,\"x\":{\"field\":\"Year_Month\"},\"y\":{\"field\":\"Frequency\"}},\"id\":\"91033\",\"type\":\"Line\"},{\"attributes\":{\"client_comm_id\":\"4f7e8f51aaa841eb98c0c866bb274cac\",\"comm_id\":\"e17979ec831e49f5957146011cde79c9\",\"plot_id\":\"90974\"},\"id\":\"91410\",\"type\":\"panel.models.comm_manager.CommManager\"},{\"attributes\":{\"children\":[{\"id\":\"90977\"},{\"id\":\"90979\"}],\"margin\":[0,0,0,0],\"name\":\"Row312697\"},\"id\":\"90976\",\"type\":\"Row\"},{\"attributes\":{\"data\":{\"Frequency\":[11965,12860,15858,15069,12356,13003,11371,9940,10188,10583,13012,13442,14252,14569,15075,13451,13618,13526,11487,9214,9686,9930,11487,12903,12173,12687,13414,13356,11538,13018,9456,8427,8404,8691,10693,9919,11513,10781,12324,11753,11580,12198,9094,8984,8745,8357,10386,10579,10646,10295,10597,10981,9623,11258,8757,8013,8217,7786,8486,9042,10093,9342,9940,9395,8118,8677,7374,6526,6687,7622,8015,8342,8027,8265,9437,8887,7808,8378,6512,3681,7031,6371,7506,16413,16139,11101,6025,10326,9798,12256,10156,7509],\"RGN19NM\":[\"North East\",\"North East\",\"North East\",\"North East\",\"North East\",\"North East\",\"North East\",\"North East\",\"North East\",\"North East\",\"North East\",\"North East\",\"North East\",\"North East\",\"North East\",\"North East\",\"North East\",\"North East\",\"North East\",\"North East\",\"North East\",\"North East\",\"North East\",\"North East\",\"North East\",\"North East\",\"North East\",\"North East\",\"North East\",\"North East\",\"North East\",\"North East\",\"North East\",\"North East\",\"North East\",\"North East\",\"North East\",\"North East\",\"North East\",\"North East\",\"North East\",\"North East\",\"North East\",\"North East\",\"North East\",\"North East\",\"North East\",\"North East\",\"North East\",\"North East\",\"North East\",\"North East\",\"North East\",\"North East\",\"North East\",\"North East\",\"North East\",\"North East\",\"North East\",\"North East\",\"North East\",\"North East\",\"North East\",\"North East\",\"North East\",\"North East\",\"North East\",\"North East\",\"North East\",\"North East\",\"North East\",\"North East\",\"North East\",\"North East\",\"North East\",\"North East\",\"North East\",\"North East\",\"North East\",\"North East\",\"North East\",\"North East\",\"North East\",\"North East\",\"North East\",\"North East\",\"North East\",\"North East\",\"North East\",\"North East\",\"North East\",\"North East\"],\"Year_Month\":[\"2013-05\",\"2013-06\",\"2013-07\",\"2013-08\",\"2013-09\",\"2013-10\",\"2013-11\",\"2013-12\",\"2014-01\",\"2014-02\",\"2014-03\",\"2014-04\",\"2014-05\",\"2014-06\",\"2014-07\",\"2014-08\",\"2014-09\",\"2014-10\",\"2014-11\",\"2014-12\",\"2015-01\",\"2015-02\",\"2015-03\",\"2015-04\",\"2015-05\",\"2015-06\",\"2015-07\",\"2015-08\",\"2015-09\",\"2015-10\",\"2015-11\",\"2015-12\",\"2016-01\",\"2016-02\",\"2016-03\",\"2016-04\",\"2016-05\",\"2016-06\",\"2016-07\",\"2016-08\",\"2016-09\",\"2016-10\",\"2016-11\",\"2016-12\",\"2017-01\",\"2017-02\",\"2017-03\",\"2017-04\",\"2017-05\",\"2017-06\",\"2017-07\",\"2017-08\",\"2017-09\",\"2017-10\",\"2017-11\",\"2017-12\",\"2018-01\",\"2018-02\",\"2018-03\",\"2018-04\",\"2018-05\",\"2018-06\",\"2018-07\",\"2018-08\",\"2018-09\",\"2018-10\",\"2018-11\",\"2018-12\",\"2019-01\",\"2019-02\",\"2019-03\",\"2019-04\",\"2019-05\",\"2019-06\",\"2019-07\",\"2019-08\",\"2019-09\",\"2019-10\",\"2019-11\",\"2019-12\",\"2020-01\",\"2020-02\",\"2020-03\",\"2020-04\",\"2020-05\",\"2020-06\",\"2020-07\",\"2020-08\",\"2020-09\",\"2020-10\",\"2020-11\",\"2020-12\"]},\"selected\":{\"id\":\"91057\"},\"selection_policy\":{\"id\":\"91122\"}},\"id\":\"91056\",\"type\":\"ColumnDataSource\"},{\"attributes\":{},\"id\":\"90998\",\"type\":\"LinearScale\"},{\"attributes\":{\"tools\":[{\"id\":\"90982\"},{\"id\":\"91007\"},{\"id\":\"91008\"},{\"id\":\"91009\"},{\"id\":\"91010\"},{\"id\":\"91011\"}]},\"id\":\"91013\",\"type\":\"Toolbar\"},{\"attributes\":{\"line_alpha\":0.2,\"line_color\":\"#1f77b4\",\"line_width\":2,\"x\":{\"field\":\"Year_Month\"},\"y\":{\"field\":\"Frequency\"}},\"id\":\"91106\",\"type\":\"Line\"},{\"attributes\":{\"source\":{\"id\":\"91056\"}},\"id\":\"91063\",\"type\":\"CDSView\"},{\"attributes\":{\"coordinates\":null,\"data_source\":{\"id\":\"91083\"},\"glyph\":{\"id\":\"91086\"},\"group\":null,\"hover_glyph\":null,\"muted_glyph\":{\"id\":\"91088\"},\"nonselection_glyph\":{\"id\":\"91087\"},\"selection_glyph\":{\"id\":\"91091\"},\"view\":{\"id\":\"91090\"}},\"id\":\"91089\",\"type\":\"GlyphRenderer\"},{\"attributes\":{\"line_color\":\"#d62728\",\"line_width\":2,\"x\":{\"field\":\"Year_Month\"},\"y\":{\"field\":\"Frequency\"}},\"id\":\"91100\",\"type\":\"Line\"},{\"attributes\":{\"line_alpha\":0.2,\"line_color\":\"#30a2da\",\"line_width\":2,\"x\":{\"field\":\"Year_Month\"},\"y\":{\"field\":\"Frequency\"}},\"id\":\"91034\",\"type\":\"Line\"},{\"attributes\":{\"data\":{\"Frequency\":[25353,27317,34475,29192,22824,25799,22431,19879,18915,17951,21390,21009,22662,24551,28312,23081,22640,21844,18858,15398,14857,14601,17083,18606,19939,21671,23671,22133,18143,20914,17785,15921,14979,15052,16280,17399,21367,21893,26211,25757,22307,22897,18846,17685,17036,15806,19105,19960,20491,19497,23032,22229,18592,20551,16559,15178,16065,14091,16183,19940,18671,19408,21347,19990,17844,22421,17976,16579,16966,16906,18959,19547,20993,22162,25822,23675,20020,20568,18533,16986,17649,17055,23063,62789,58546,39619,35633,35898,30917,31278,34208,29823],\"RGN19NM\":[\"London\",\"London\",\"London\",\"London\",\"London\",\"London\",\"London\",\"London\",\"London\",\"London\",\"London\",\"London\",\"London\",\"London\",\"London\",\"London\",\"London\",\"London\",\"London\",\"London\",\"London\",\"London\",\"London\",\"London\",\"London\",\"London\",\"London\",\"London\",\"London\",\"London\",\"London\",\"London\",\"London\",\"London\",\"London\",\"London\",\"London\",\"London\",\"London\",\"London\",\"London\",\"London\",\"London\",\"London\",\"London\",\"London\",\"London\",\"London\",\"London\",\"London\",\"London\",\"London\",\"London\",\"London\",\"London\",\"London\",\"London\",\"London\",\"London\",\"London\",\"London\",\"London\",\"London\",\"London\",\"London\",\"London\",\"London\",\"London\",\"London\",\"London\",\"London\",\"London\",\"London\",\"London\",\"London\",\"London\",\"London\",\"London\",\"London\",\"London\",\"London\",\"London\",\"London\",\"London\",\"London\",\"London\",\"London\",\"London\",\"London\",\"London\",\"London\",\"London\"],\"Year_Month\":[\"2013-05\",\"2013-06\",\"2013-07\",\"2013-08\",\"2013-09\",\"2013-10\",\"2013-11\",\"2013-12\",\"2014-01\",\"2014-02\",\"2014-03\",\"2014-04\",\"2014-05\",\"2014-06\",\"2014-07\",\"2014-08\",\"2014-09\",\"2014-10\",\"2014-11\",\"2014-12\",\"2015-01\",\"2015-02\",\"2015-03\",\"2015-04\",\"2015-05\",\"2015-06\",\"2015-07\",\"2015-08\",\"2015-09\",\"2015-10\",\"2015-11\",\"2015-12\",\"2016-01\",\"2016-02\",\"2016-03\",\"2016-04\",\"2016-05\",\"2016-06\",\"2016-07\",\"2016-08\",\"2016-09\",\"2016-10\",\"2016-11\",\"2016-12\",\"2017-01\",\"2017-02\",\"2017-03\",\"2017-04\",\"2017-05\",\"2017-06\",\"2017-07\",\"2017-08\",\"2017-09\",\"2017-10\",\"2017-11\",\"2017-12\",\"2018-01\",\"2018-02\",\"2018-03\",\"2018-04\",\"2018-05\",\"2018-06\",\"2018-07\",\"2018-08\",\"2018-09\",\"2018-10\",\"2018-11\",\"2018-12\",\"2019-01\",\"2019-02\",\"2019-03\",\"2019-04\",\"2019-05\",\"2019-06\",\"2019-07\",\"2019-08\",\"2019-09\",\"2019-10\",\"2019-11\",\"2019-12\",\"2020-01\",\"2020-02\",\"2020-03\",\"2020-04\",\"2020-05\",\"2020-06\",\"2020-07\",\"2020-08\",\"2020-09\",\"2020-10\",\"2020-11\",\"2020-12\"]},\"selected\":{\"id\":\"91048\"},\"selection_policy\":{\"id\":\"91120\"}},\"id\":\"91047\",\"type\":\"ColumnDataSource\"},{\"attributes\":{\"source\":{\"id\":\"91083\"}},\"id\":\"91090\",\"type\":\"CDSView\"},{\"attributes\":{},\"id\":\"91030\",\"type\":\"Selection\"},{\"attributes\":{\"line_alpha\":0.1,\"line_color\":\"#17becf\",\"line_width\":2,\"x\":{\"field\":\"Year_Month\"},\"y\":{\"field\":\"Frequency\"}},\"id\":\"91078\",\"type\":\"Line\"},{\"attributes\":{},\"id\":\"91128\",\"type\":\"UnionRenderers\"},{\"attributes\":{\"line_alpha\":0.1,\"line_color\":\"#e5ae38\",\"line_width\":2,\"x\":{\"field\":\"Year_Month\"},\"y\":{\"field\":\"Frequency\"}},\"id\":\"91051\",\"type\":\"Line\"},{\"attributes\":{\"data\":{\"Frequency\":[15546,16676,20739,19693,14673,14820,13118,10744,10823,10687,13816,14809,15163,15914,17824,15849,15703,14751,12552,10985,10759,11330,13404,14416,14841,15218,15945,14945,12603,13306,11861,11873,11590,11140,12940,13287,15137,15293,17467,16165,15224,14997,11471,11605,11166,11444,13659,13908,14679,15598,16083,14614,12863,13546,10560,9657,9193,9300,10472,11192,12646,12960,13948,12359,10430,10324,8882,8595,8477,9165,10091,10417,10715,11240,12425,11598,9746,9547,8390,7692,8146,7857,9590,13789,14114,13456,14181,13548,10792,10687,11387,9729],\"RGN19NM\":[\"East of England\",\"East of England\",\"East of England\",\"East of England\",\"East of England\",\"East of England\",\"East of England\",\"East of England\",\"East of England\",\"East of England\",\"East of England\",\"East of England\",\"East of England\",\"East of England\",\"East of England\",\"East of England\",\"East of England\",\"East of England\",\"East of England\",\"East of England\",\"East of England\",\"East of England\",\"East of England\",\"East of England\",\"East of England\",\"East of England\",\"East of England\",\"East of England\",\"East of England\",\"East of England\",\"East of England\",\"East of England\",\"East of England\",\"East of England\",\"East of England\",\"East of England\",\"East of England\",\"East of England\",\"East of England\",\"East of England\",\"East of England\",\"East of England\",\"East of England\",\"East of England\",\"East of England\",\"East of England\",\"East of England\",\"East of England\",\"East of England\",\"East of England\",\"East of England\",\"East of England\",\"East of England\",\"East of England\",\"East of England\",\"East of England\",\"East of England\",\"East of England\",\"East of England\",\"East of England\",\"East of England\",\"East of England\",\"East of England\",\"East of England\",\"East of England\",\"East of England\",\"East of England\",\"East of England\",\"East of England\",\"East of England\",\"East of England\",\"East of England\",\"East of England\",\"East of England\",\"East of England\",\"East of England\",\"East of England\",\"East of England\",\"East of England\",\"East of England\",\"East of England\",\"East of England\",\"East of England\",\"East of England\",\"East of England\",\"East of England\",\"East of England\",\"East of England\",\"East of England\",\"East of England\",\"East of England\",\"East of England\"],\"Year_Month\":[\"2013-05\",\"2013-06\",\"2013-07\",\"2013-08\",\"2013-09\",\"2013-10\",\"2013-11\",\"2013-12\",\"2014-01\",\"2014-02\",\"2014-03\",\"2014-04\",\"2014-05\",\"2014-06\",\"2014-07\",\"2014-08\",\"2014-09\",\"2014-10\",\"2014-11\",\"2014-12\",\"2015-01\",\"2015-02\",\"2015-03\",\"2015-04\",\"2015-05\",\"2015-06\",\"2015-07\",\"2015-08\",\"2015-09\",\"2015-10\",\"2015-11\",\"2015-12\",\"2016-01\",\"2016-02\",\"2016-03\",\"2016-04\",\"2016-05\",\"2016-06\",\"2016-07\",\"2016-08\",\"2016-09\",\"2016-10\",\"2016-11\",\"2016-12\",\"2017-01\",\"2017-02\",\"2017-03\",\"2017-04\",\"2017-05\",\"2017-06\",\"2017-07\",\"2017-08\",\"2017-09\",\"2017-10\",\"2017-11\",\"2017-12\",\"2018-01\",\"2018-02\",\"2018-03\",\"2018-04\",\"2018-05\",\"2018-06\",\"2018-07\",\"2018-08\",\"2018-09\",\"2018-10\",\"2018-11\",\"2018-12\",\"2019-01\",\"2019-02\",\"2019-03\",\"2019-04\",\"2019-05\",\"2019-06\",\"2019-07\",\"2019-08\",\"2019-09\",\"2019-10\",\"2019-11\",\"2019-12\",\"2020-01\",\"2020-02\",\"2020-03\",\"2020-04\",\"2020-05\",\"2020-06\",\"2020-07\",\"2020-08\",\"2020-09\",\"2020-10\",\"2020-11\",\"2020-12\"]},\"selected\":{\"id\":\"91039\"},\"selection_policy\":{\"id\":\"91118\"}},\"id\":\"91038\",\"type\":\"ColumnDataSource\"},{\"attributes\":{\"coordinates\":null,\"group\":null,\"text\":\"Crime Frequency plot for Crime type for all regions\",\"text_color\":\"black\",\"text_font_size\":\"12pt\"},\"id\":\"90992\",\"type\":\"Title\"},{\"attributes\":{\"line_alpha\":0.2,\"line_color\":\"#8b8b8b\",\"line_width\":2,\"x\":{\"field\":\"Year_Month\"},\"y\":{\"field\":\"Frequency\"}},\"id\":\"91070\",\"type\":\"Line\"},{\"attributes\":{},\"id\":\"91122\",\"type\":\"UnionRenderers\"},{\"attributes\":{},\"id\":\"91028\",\"type\":\"AllLabels\"},{\"attributes\":{},\"id\":\"91075\",\"type\":\"Selection\"},{\"attributes\":{},\"id\":\"91084\",\"type\":\"Selection\"},{\"attributes\":{},\"id\":\"91102\",\"type\":\"Selection\"},{\"attributes\":{\"margin\":[5,10,5,10],\"options\":[\"Anti-social behaviour\",\"Bicycle theft\",\"Burglary\",\"Criminal damage and arson\",\"Drugs\",\"Other crime\",\"Other theft\",\"Possession of weapons\",\"Public order\",\"Robbery\",\"Shoplifting\",\"Theft from the person\",\"Vehicle crime\",\"Violence and sexual offences\"],\"title\":\"Select Crime Type\",\"value\":\"Anti-social behaviour\"},\"id\":\"90978\",\"type\":\"Select\"},{\"attributes\":{},\"id\":\"91066\",\"type\":\"Selection\"},{\"attributes\":{\"data\":{\"Frequency\":[19869,20222,24591,23175,18438,18518,16986,14746,14890,14296,18205,19546,19604,20531,22923,19216,17810,18044,16561,13966,14998,14584,16071,17263,17538,17629,19696,19837,16902,18428,15561,13909,14785,14332,16122,16281,18085,17926,20342,19520,18645,18933,14694,13614,13302,12932,14804,15476,15105,15029,15965,16138,13728,15822,13007,10992,10537,9986,11757,12389,13445,12871,13449,13119,10726,11063,9091,7878,8448,9118,9618,10040,10021,9686,11415,11461,9395,10111,8285,7286,7937,7332,10042,12076,14733,13392,13263,13545,11474,11981,10589,9152],\"RGN19NM\":[\"Yorkshire and The Humber\",\"Yorkshire and The Humber\",\"Yorkshire and The Humber\",\"Yorkshire and The Humber\",\"Yorkshire and The Humber\",\"Yorkshire and The Humber\",\"Yorkshire and The Humber\",\"Yorkshire and The Humber\",\"Yorkshire and The Humber\",\"Yorkshire and The Humber\",\"Yorkshire and The Humber\",\"Yorkshire and The Humber\",\"Yorkshire and The Humber\",\"Yorkshire and The Humber\",\"Yorkshire and The Humber\",\"Yorkshire and The Humber\",\"Yorkshire and The Humber\",\"Yorkshire and The Humber\",\"Yorkshire and The Humber\",\"Yorkshire and The Humber\",\"Yorkshire and The Humber\",\"Yorkshire and The Humber\",\"Yorkshire and The Humber\",\"Yorkshire and The Humber\",\"Yorkshire and The Humber\",\"Yorkshire and The Humber\",\"Yorkshire and The Humber\",\"Yorkshire and The Humber\",\"Yorkshire and The Humber\",\"Yorkshire and The Humber\",\"Yorkshire and The Humber\",\"Yorkshire and The Humber\",\"Yorkshire and The Humber\",\"Yorkshire and The Humber\",\"Yorkshire and The Humber\",\"Yorkshire and The Humber\",\"Yorkshire and The Humber\",\"Yorkshire and The Humber\",\"Yorkshire and The Humber\",\"Yorkshire and The Humber\",\"Yorkshire and The Humber\",\"Yorkshire and The Humber\",\"Yorkshire and The Humber\",\"Yorkshire and The Humber\",\"Yorkshire and The Humber\",\"Yorkshire and The Humber\",\"Yorkshire and The Humber\",\"Yorkshire and The Humber\",\"Yorkshire and The Humber\",\"Yorkshire and The Humber\",\"Yorkshire and The Humber\",\"Yorkshire and The Humber\",\"Yorkshire and The Humber\",\"Yorkshire and The Humber\",\"Yorkshire and The Humber\",\"Yorkshire and The Humber\",\"Yorkshire and The Humber\",\"Yorkshire and The Humber\",\"Yorkshire and The Humber\",\"Yorkshire and The Humber\",\"Yorkshire and The Humber\",\"Yorkshire and The Humber\",\"Yorkshire and The Humber\",\"Yorkshire and The Humber\",\"Yorkshire and The Humber\",\"Yorkshire and The Humber\",\"Yorkshire and The Humber\",\"Yorkshire and The Humber\",\"Yorkshire and The Humber\",\"Yorkshire and The Humber\",\"Yorkshire and The Humber\",\"Yorkshire and The Humber\",\"Yorkshire and The Humber\",\"Yorkshire and The Humber\",\"Yorkshire and The Humber\",\"Yorkshire and The Humber\",\"Yorkshire and The Humber\",\"Yorkshire and The Humber\",\"Yorkshire and The Humber\",\"Yorkshire and The Humber\",\"Yorkshire and The Humber\",\"Yorkshire and The Humber\",\"Yorkshire and The Humber\",\"Yorkshire and The Humber\",\"Yorkshire and The Humber\",\"Yorkshire and The Humber\",\"Yorkshire and The Humber\",\"Yorkshire and The Humber\",\"Yorkshire and The Humber\",\"Yorkshire and The Humber\",\"Yorkshire and The Humber\",\"Yorkshire and The Humber\"],\"Year_Month\":[\"2013-05\",\"2013-06\",\"2013-07\",\"2013-08\",\"2013-09\",\"2013-10\",\"2013-11\",\"2013-12\",\"2014-01\",\"2014-02\",\"2014-03\",\"2014-04\",\"2014-05\",\"2014-06\",\"2014-07\",\"2014-08\",\"2014-09\",\"2014-10\",\"2014-11\",\"2014-12\",\"2015-01\",\"2015-02\",\"2015-03\",\"2015-04\",\"2015-05\",\"2015-06\",\"2015-07\",\"2015-08\",\"2015-09\",\"2015-10\",\"2015-11\",\"2015-12\",\"2016-01\",\"2016-02\",\"2016-03\",\"2016-04\",\"2016-05\",\"2016-06\",\"2016-07\",\"2016-08\",\"2016-09\",\"2016-10\",\"2016-11\",\"2016-12\",\"2017-01\",\"2017-02\",\"2017-03\",\"2017-04\",\"2017-05\",\"2017-06\",\"2017-07\",\"2017-08\",\"2017-09\",\"2017-10\",\"2017-11\",\"2017-12\",\"2018-01\",\"2018-02\",\"2018-03\",\"2018-04\",\"2018-05\",\"2018-06\",\"2018-07\",\"2018-08\",\"2018-09\",\"2018-10\",\"2018-11\",\"2018-12\",\"2019-01\",\"2019-02\",\"2019-03\",\"2019-04\",\"2019-05\",\"2019-06\",\"2019-07\",\"2019-08\",\"2019-09\",\"2019-10\",\"2019-11\",\"2019-12\",\"2020-01\",\"2020-02\",\"2020-03\",\"2020-04\",\"2020-05\",\"2020-06\",\"2020-07\",\"2020-08\",\"2020-09\",\"2020-10\",\"2020-11\",\"2020-12\"]},\"selected\":{\"id\":\"91102\"},\"selection_policy\":{\"id\":\"91132\"}},\"id\":\"91101\",\"type\":\"ColumnDataSource\"},{\"attributes\":{\"source\":{\"id\":\"91092\"}},\"id\":\"91099\",\"type\":\"CDSView\"},{\"attributes\":{\"coordinates\":null,\"data_source\":{\"id\":\"91074\"},\"glyph\":{\"id\":\"91077\"},\"group\":null,\"hover_glyph\":null,\"muted_glyph\":{\"id\":\"91079\"},\"nonselection_glyph\":{\"id\":\"91078\"},\"selection_glyph\":{\"id\":\"91082\"},\"view\":{\"id\":\"91081\"}},\"id\":\"91080\",\"type\":\"GlyphRenderer\"},{\"attributes\":{},\"id\":\"91004\",\"type\":\"BasicTicker\"},{\"attributes\":{\"line_alpha\":0.1,\"line_color\":\"#9467bd\",\"line_width\":2,\"x\":{\"field\":\"Year_Month\"},\"y\":{\"field\":\"Frequency\"}},\"id\":\"91087\",\"type\":\"Line\"},{\"attributes\":{\"data\":{\"Frequency\":[22309,23907,29609,27657,21660,20509,18074,16377,16021,14739,18857,20543,21344,23573,26534,23448,22300,20695,18066,15637,15741,15536,18144,19910,20781,22142,23336,21888,18256,18211,15562,15111,14293,14467,16159,16558,18935,18576,21490,21030,19119,18636,14839,14913,14337,14637,18642,17920,18056,18476,18080,18370,15163,16132,12992,11500,11846,11017,12759,11211,12258,13143,13834,12672,10576,9523,6689,6153,8404,7739,9632,12568,13318,13606,16928,15458,12632,12240,10344,9735,10217,9299,11571,21496,22798,19456,18924,18912,14721,14115,14320,13302],\"RGN19NM\":[\"South East\",\"South East\",\"South East\",\"South East\",\"South East\",\"South East\",\"South East\",\"South East\",\"South East\",\"South East\",\"South East\",\"South East\",\"South East\",\"South East\",\"South East\",\"South East\",\"South East\",\"South East\",\"South East\",\"South East\",\"South East\",\"South East\",\"South East\",\"South East\",\"South East\",\"South East\",\"South East\",\"South East\",\"South East\",\"South East\",\"South East\",\"South East\",\"South East\",\"South East\",\"South East\",\"South East\",\"South East\",\"South East\",\"South East\",\"South East\",\"South East\",\"South East\",\"South East\",\"South East\",\"South East\",\"South East\",\"South East\",\"South East\",\"South East\",\"South East\",\"South East\",\"South East\",\"South East\",\"South East\",\"South East\",\"South East\",\"South East\",\"South East\",\"South East\",\"South East\",\"South East\",\"South East\",\"South East\",\"South East\",\"South East\",\"South East\",\"South East\",\"South East\",\"South East\",\"South East\",\"South East\",\"South East\",\"South East\",\"South East\",\"South East\",\"South East\",\"South East\",\"South East\",\"South East\",\"South East\",\"South East\",\"South East\",\"South East\",\"South East\",\"South East\",\"South East\",\"South East\",\"South East\",\"South East\",\"South East\",\"South East\",\"South East\"],\"Year_Month\":[\"2013-05\",\"2013-06\",\"2013-07\",\"2013-08\",\"2013-09\",\"2013-10\",\"2013-11\",\"2013-12\",\"2014-01\",\"2014-02\",\"2014-03\",\"2014-04\",\"2014-05\",\"2014-06\",\"2014-07\",\"2014-08\",\"2014-09\",\"2014-10\",\"2014-11\",\"2014-12\",\"2015-01\",\"2015-02\",\"2015-03\",\"2015-04\",\"2015-05\",\"2015-06\",\"2015-07\",\"2015-08\",\"2015-09\",\"2015-10\",\"2015-11\",\"2015-12\",\"2016-01\",\"2016-02\",\"2016-03\",\"2016-04\",\"2016-05\",\"2016-06\",\"2016-07\",\"2016-08\",\"2016-09\",\"2016-10\",\"2016-11\",\"2016-12\",\"2017-01\",\"2017-02\",\"2017-03\",\"2017-04\",\"2017-05\",\"2017-06\",\"2017-07\",\"2017-08\",\"2017-09\",\"2017-10\",\"2017-11\",\"2017-12\",\"2018-01\",\"2018-02\",\"2018-03\",\"2018-04\",\"2018-05\",\"2018-06\",\"2018-07\",\"2018-08\",\"2018-09\",\"2018-10\",\"2018-11\",\"2018-12\",\"2019-01\",\"2019-02\",\"2019-03\",\"2019-04\",\"2019-05\",\"2019-06\",\"2019-07\",\"2019-08\",\"2019-09\",\"2019-10\",\"2019-11\",\"2019-12\",\"2020-01\",\"2020-02\",\"2020-03\",\"2020-04\",\"2020-05\",\"2020-06\",\"2020-07\",\"2020-08\",\"2020-09\",\"2020-10\",\"2020-11\",\"2020-12\"]},\"selected\":{\"id\":\"91075\"},\"selection_policy\":{\"id\":\"91126\"}},\"id\":\"91074\",\"type\":\"ColumnDataSource\"},{\"attributes\":{\"coordinates\":null,\"data_source\":{\"id\":\"91101\"},\"glyph\":{\"id\":\"91104\"},\"group\":null,\"hover_glyph\":null,\"muted_glyph\":{\"id\":\"91106\"},\"nonselection_glyph\":{\"id\":\"91105\"},\"selection_glyph\":{\"id\":\"91109\"},\"view\":{\"id\":\"91108\"}},\"id\":\"91107\",\"type\":\"GlyphRenderer\"},{\"attributes\":{},\"id\":\"91023\",\"type\":\"AllLabels\"},{\"attributes\":{\"source\":{\"id\":\"91038\"}},\"id\":\"91045\",\"type\":\"CDSView\"},{\"attributes\":{\"line_alpha\":0.2,\"line_color\":\"#17becf\",\"line_width\":2,\"x\":{\"field\":\"Year_Month\"},\"y\":{\"field\":\"Frequency\"}},\"id\":\"91079\",\"type\":\"Line\"},{\"attributes\":{\"line_alpha\":0.2,\"line_color\":\"#e5ae38\",\"line_width\":2,\"x\":{\"field\":\"Year_Month\"},\"y\":{\"field\":\"Frequency\"}},\"id\":\"91052\",\"type\":\"Line\"},{\"attributes\":{\"axis_label\":\"Frequency\",\"coordinates\":null,\"formatter\":{\"id\":\"91027\"},\"group\":null,\"major_label_policy\":{\"id\":\"91028\"},\"ticker\":{\"id\":\"91004\"}},\"id\":\"91003\",\"type\":\"LinearAxis\"},{\"attributes\":{\"line_alpha\":0.2,\"line_color\":\"#fc4f30\",\"line_width\":2,\"x\":{\"field\":\"Year_Month\"},\"y\":{\"field\":\"Frequency\"}},\"id\":\"91043\",\"type\":\"Line\"},{\"attributes\":{},\"id\":\"91132\",\"type\":\"UnionRenderers\"},{\"attributes\":{\"line_color\":\"#8b8b8b\",\"line_width\":2,\"x\":{\"field\":\"Year_Month\"},\"y\":{\"field\":\"Frequency\"}},\"id\":\"91068\",\"type\":\"Line\"},{\"attributes\":{\"children\":[{\"id\":\"90976\"},{\"id\":\"90991\"}],\"margin\":[0,0,0,0],\"name\":\"Column312703\"},\"id\":\"90975\",\"type\":\"Column\"},{\"attributes\":{},\"id\":\"90996\",\"type\":\"CategoricalScale\"},{\"attributes\":{\"source\":{\"id\":\"91029\"}},\"id\":\"91036\",\"type\":\"CDSView\"},{\"attributes\":{\"line_color\":\"#6d904f\",\"line_width\":2,\"x\":{\"field\":\"Year_Month\"},\"y\":{\"field\":\"Frequency\"}},\"id\":\"91059\",\"type\":\"Line\"},{\"attributes\":{\"line_alpha\":0.1,\"line_color\":\"#1f77b4\",\"line_width\":2,\"x\":{\"field\":\"Year_Month\"},\"y\":{\"field\":\"Frequency\"}},\"id\":\"91105\",\"type\":\"Line\"},{\"attributes\":{\"coordinates\":null,\"data_source\":{\"id\":\"91092\"},\"glyph\":{\"id\":\"91095\"},\"group\":null,\"hover_glyph\":null,\"muted_glyph\":{\"id\":\"91097\"},\"nonselection_glyph\":{\"id\":\"91096\"},\"selection_glyph\":{\"id\":\"91100\"},\"view\":{\"id\":\"91099\"}},\"id\":\"91098\",\"type\":\"GlyphRenderer\"},{\"attributes\":{\"line_alpha\":0.2,\"line_color\":\"#d62728\",\"line_width\":2,\"x\":{\"field\":\"Year_Month\"},\"y\":{\"field\":\"Frequency\"}},\"id\":\"91097\",\"type\":\"Line\"},{\"attributes\":{\"line_alpha\":0.1,\"line_color\":\"#6d904f\",\"line_width\":2,\"x\":{\"field\":\"Year_Month\"},\"y\":{\"field\":\"Frequency\"}},\"id\":\"91060\",\"type\":\"Line\"},{\"attributes\":{},\"id\":\"91126\",\"type\":\"UnionRenderers\"},{\"attributes\":{\"line_color\":\"#30a2da\",\"line_width\":2,\"x\":{\"field\":\"Year_Month\"},\"y\":{\"field\":\"Frequency\"}},\"id\":\"91032\",\"type\":\"Line\"},{\"attributes\":{\"coordinates\":null,\"data_source\":{\"id\":\"91065\"},\"glyph\":{\"id\":\"91068\"},\"group\":null,\"hover_glyph\":null,\"muted_glyph\":{\"id\":\"91070\"},\"nonselection_glyph\":{\"id\":\"91069\"},\"selection_glyph\":{\"id\":\"91073\"},\"view\":{\"id\":\"91072\"}},\"id\":\"91071\",\"type\":\"GlyphRenderer\"},{\"attributes\":{},\"id\":\"91011\",\"type\":\"ResetTool\"},{\"attributes\":{},\"id\":\"91048\",\"type\":\"Selection\"},{\"attributes\":{\"below\":[{\"id\":\"91000\"}],\"center\":[{\"id\":\"91002\"},{\"id\":\"91006\"}],\"height\":300,\"left\":[{\"id\":\"91003\"}],\"margin\":[5,5,5,5],\"min_border_bottom\":10,\"min_border_left\":10,\"min_border_right\":10,\"min_border_top\":10,\"renderers\":[{\"id\":\"91035\"},{\"id\":\"91044\"},{\"id\":\"91053\"},{\"id\":\"91062\"},{\"id\":\"91071\"},{\"id\":\"91080\"},{\"id\":\"91089\"},{\"id\":\"91098\"},{\"id\":\"91107\"}],\"sizing_mode\":\"fixed\",\"title\":{\"id\":\"90992\"},\"toolbar\":{\"id\":\"91013\"},\"width\":700,\"x_range\":{\"id\":\"90980\"},\"x_scale\":{\"id\":\"90996\"},\"y_range\":{\"id\":\"90981\"},\"y_scale\":{\"id\":\"90998\"}},\"id\":\"90991\",\"subtype\":\"Figure\",\"type\":\"Plot\"},{\"attributes\":{\"coordinates\":null,\"data_source\":{\"id\":\"91038\"},\"glyph\":{\"id\":\"91041\"},\"group\":null,\"hover_glyph\":null,\"muted_glyph\":{\"id\":\"91043\"},\"nonselection_glyph\":{\"id\":\"91042\"},\"selection_glyph\":{\"id\":\"91046\"},\"view\":{\"id\":\"91045\"}},\"id\":\"91044\",\"type\":\"GlyphRenderer\"},{\"attributes\":{\"data\":{\"Frequency\":[30955,32646,38987,36124,28113,29247,25368,22696,22056,21514,26526,28353,28949,30292,34021,28741,29374,28301,24424,21512,21338,21693,25003,28106,27394,28192,28718,29306,26097,28361,21734,21103,21529,21629,25065,25535,28491,27771,29026,28661,26162,27487,20138,19552,19234,18344,21535,23917,23775,22286,22104,21619,18696,21736,17718,15023,14414,13455,13067,14263,15772,14698,14822,13380,12035,12936,11534,11768,12301,12777,14482,16046,15936,15459,11311,10867,8982,10722,8449,7154,7999,7867,10996,22198,21857,22534,13088,14142,12480,16299,13838,11823],\"RGN19NM\":[\"North West\",\"North West\",\"North West\",\"North West\",\"North West\",\"North West\",\"North West\",\"North West\",\"North West\",\"North West\",\"North West\",\"North West\",\"North West\",\"North West\",\"North West\",\"North West\",\"North West\",\"North West\",\"North West\",\"North West\",\"North West\",\"North West\",\"North West\",\"North West\",\"North West\",\"North West\",\"North West\",\"North West\",\"North West\",\"North West\",\"North West\",\"North West\",\"North West\",\"North West\",\"North West\",\"North West\",\"North West\",\"North West\",\"North West\",\"North West\",\"North West\",\"North West\",\"North West\",\"North West\",\"North West\",\"North West\",\"North West\",\"North West\",\"North West\",\"North West\",\"North West\",\"North West\",\"North West\",\"North West\",\"North West\",\"North West\",\"North West\",\"North West\",\"North West\",\"North West\",\"North West\",\"North West\",\"North West\",\"North West\",\"North West\",\"North West\",\"North West\",\"North West\",\"North West\",\"North West\",\"North West\",\"North West\",\"North West\",\"North West\",\"North West\",\"North West\",\"North West\",\"North West\",\"North West\",\"North West\",\"North West\",\"North West\",\"North West\",\"North West\",\"North West\",\"North West\",\"North West\",\"North West\",\"North West\",\"North West\",\"North West\",\"North West\"],\"Year_Month\":[\"2013-05\",\"2013-06\",\"2013-07\",\"2013-08\",\"2013-09\",\"2013-10\",\"2013-11\",\"2013-12\",\"2014-01\",\"2014-02\",\"2014-03\",\"2014-04\",\"2014-05\",\"2014-06\",\"2014-07\",\"2014-08\",\"2014-09\",\"2014-10\",\"2014-11\",\"2014-12\",\"2015-01\",\"2015-02\",\"2015-03\",\"2015-04\",\"2015-05\",\"2015-06\",\"2015-07\",\"2015-08\",\"2015-09\",\"2015-10\",\"2015-11\",\"2015-12\",\"2016-01\",\"2016-02\",\"2016-03\",\"2016-04\",\"2016-05\",\"2016-06\",\"2016-07\",\"2016-08\",\"2016-09\",\"2016-10\",\"2016-11\",\"2016-12\",\"2017-01\",\"2017-02\",\"2017-03\",\"2017-04\",\"2017-05\",\"2017-06\",\"2017-07\",\"2017-08\",\"2017-09\",\"2017-10\",\"2017-11\",\"2017-12\",\"2018-01\",\"2018-02\",\"2018-03\",\"2018-04\",\"2018-05\",\"2018-06\",\"2018-07\",\"2018-08\",\"2018-09\",\"2018-10\",\"2018-11\",\"2018-12\",\"2019-01\",\"2019-02\",\"2019-03\",\"2019-04\",\"2019-05\",\"2019-06\",\"2019-07\",\"2019-08\",\"2019-09\",\"2019-10\",\"2019-11\",\"2019-12\",\"2020-01\",\"2020-02\",\"2020-03\",\"2020-04\",\"2020-05\",\"2020-06\",\"2020-07\",\"2020-08\",\"2020-09\",\"2020-10\",\"2020-11\",\"2020-12\"]},\"selected\":{\"id\":\"91066\"},\"selection_policy\":{\"id\":\"91124\"}},\"id\":\"91065\",\"type\":\"ColumnDataSource\"},{\"attributes\":{},\"id\":\"91009\",\"type\":\"WheelZoomTool\"},{\"attributes\":{\"line_color\":\"#9467bd\",\"line_width\":2,\"x\":{\"field\":\"Year_Month\"},\"y\":{\"field\":\"Frequency\"}},\"id\":\"91091\",\"type\":\"Line\"},{\"attributes\":{\"line_color\":\"#e5ae38\",\"line_width\":2,\"x\":{\"field\":\"Year_Month\"},\"y\":{\"field\":\"Frequency\"}},\"id\":\"91055\",\"type\":\"Line\"},{\"attributes\":{},\"id\":\"91118\",\"type\":\"UnionRenderers\"},{\"attributes\":{},\"id\":\"91027\",\"type\":\"BasicTickFormatter\"},{\"attributes\":{},\"id\":\"91057\",\"type\":\"Selection\"},{\"attributes\":{\"children\":[{\"id\":\"90978\"}],\"margin\":[0,0,0,0],\"name\":\"Column312692\"},\"id\":\"90977\",\"type\":\"Column\"},{\"attributes\":{},\"id\":\"91022\",\"type\":\"CategoricalTickFormatter\"},{\"attributes\":{\"line_color\":\"#8b8b8b\",\"line_width\":2,\"x\":{\"field\":\"Year_Month\"},\"y\":{\"field\":\"Frequency\"}},\"id\":\"91073\",\"type\":\"Line\"},{\"attributes\":{\"overlay\":{\"id\":\"91012\"}},\"id\":\"91010\",\"type\":\"BoxZoomTool\"},{\"attributes\":{},\"id\":\"91039\",\"type\":\"Selection\"},{\"attributes\":{\"line_color\":\"#d62728\",\"line_width\":2,\"x\":{\"field\":\"Year_Month\"},\"y\":{\"field\":\"Frequency\"}},\"id\":\"91095\",\"type\":\"Line\"},{\"attributes\":{\"axis\":{\"id\":\"91000\"},\"coordinates\":null,\"grid_line_color\":null,\"group\":null,\"ticker\":null},\"id\":\"91002\",\"type\":\"Grid\"},{\"attributes\":{\"line_color\":\"#fc4f30\",\"line_width\":2,\"x\":{\"field\":\"Year_Month\"},\"y\":{\"field\":\"Frequency\"}},\"id\":\"91046\",\"type\":\"Line\"},{\"attributes\":{},\"id\":\"91116\",\"type\":\"UnionRenderers\"},{\"attributes\":{\"line_alpha\":0.1,\"line_color\":\"#fc4f30\",\"line_width\":2,\"x\":{\"field\":\"Year_Month\"},\"y\":{\"field\":\"Frequency\"}},\"id\":\"91042\",\"type\":\"Line\"},{\"attributes\":{},\"id\":\"91120\",\"type\":\"UnionRenderers\"},{\"attributes\":{},\"id\":\"91130\",\"type\":\"UnionRenderers\"},{\"attributes\":{\"coordinates\":null,\"data_source\":{\"id\":\"91029\"},\"glyph\":{\"id\":\"91032\"},\"group\":null,\"hover_glyph\":null,\"muted_glyph\":{\"id\":\"91034\"},\"nonselection_glyph\":{\"id\":\"91033\"},\"selection_glyph\":{\"id\":\"91037\"},\"view\":{\"id\":\"91036\"}},\"id\":\"91035\",\"type\":\"GlyphRenderer\"},{\"attributes\":{\"axis\":{\"id\":\"91003\"},\"coordinates\":null,\"dimension\":1,\"grid_line_color\":null,\"group\":null,\"ticker\":null},\"id\":\"91006\",\"type\":\"Grid\"},{\"attributes\":{\"coordinates\":null,\"data_source\":{\"id\":\"91047\"},\"glyph\":{\"id\":\"91050\"},\"group\":null,\"hover_glyph\":null,\"muted_glyph\":{\"id\":\"91052\"},\"nonselection_glyph\":{\"id\":\"91051\"},\"selection_glyph\":{\"id\":\"91055\"},\"view\":{\"id\":\"91054\"}},\"id\":\"91053\",\"type\":\"GlyphRenderer\"},{\"attributes\":{\"line_color\":\"#9467bd\",\"line_width\":2,\"x\":{\"field\":\"Year_Month\"},\"y\":{\"field\":\"Frequency\"}},\"id\":\"91086\",\"type\":\"Line\"},{\"attributes\":{\"end\":68699.8,\"reset_end\":68699.8,\"reset_start\":-2229.8,\"start\":-2229.8,\"tags\":[[[\"Frequency\",\"Frequency\",null]]]},\"id\":\"90981\",\"type\":\"Range1d\"},{\"attributes\":{\"source\":{\"id\":\"91074\"}},\"id\":\"91081\",\"type\":\"CDSView\"},{\"attributes\":{\"coordinates\":null,\"data_source\":{\"id\":\"91056\"},\"glyph\":{\"id\":\"91059\"},\"group\":null,\"hover_glyph\":null,\"muted_glyph\":{\"id\":\"91061\"},\"nonselection_glyph\":{\"id\":\"91060\"},\"selection_glyph\":{\"id\":\"91064\"},\"view\":{\"id\":\"91063\"}},\"id\":\"91062\",\"type\":\"GlyphRenderer\"},{\"attributes\":{},\"id\":\"91008\",\"type\":\"PanTool\"},{\"attributes\":{\"line_color\":\"#1f77b4\",\"line_width\":2,\"x\":{\"field\":\"Year_Month\"},\"y\":{\"field\":\"Frequency\"}},\"id\":\"91104\",\"type\":\"Line\"},{\"attributes\":{\"data\":{\"Frequency\":[15908,16054,19812,18128,14411,14356,12506,11641,11149,10781,14275,14585,15289,16676,18540,15484,15433,13866,11822,10302,10746,10584,12127,13477,13305,14815,15130,15029,13072,13863,10996,10779,10869,10932,12470,12783,14739,14959,16463,15521,14333,14478,10675,10600,10227,10387,12841,13911,14343,14613,16013,15326,12474,14065,11544,10955,10129,9450,11117,12178,13392,13878,15034,13129,11276,11349,9911,9314,9413,9244,10401,10547,10907,10707,12888,11673,9870,9520,8199,7554,7971,7983,10246,20495,19918,14606,13411,13266,11842,12573,11331,10519],\"RGN19NM\":[\"West Midlands\",\"West Midlands\",\"West Midlands\",\"West Midlands\",\"West Midlands\",\"West Midlands\",\"West Midlands\",\"West Midlands\",\"West Midlands\",\"West Midlands\",\"West Midlands\",\"West Midlands\",\"West Midlands\",\"West Midlands\",\"West Midlands\",\"West Midlands\",\"West Midlands\",\"West Midlands\",\"West Midlands\",\"West Midlands\",\"West Midlands\",\"West Midlands\",\"West Midlands\",\"West Midlands\",\"West Midlands\",\"West Midlands\",\"West Midlands\",\"West Midlands\",\"West Midlands\",\"West Midlands\",\"West Midlands\",\"West Midlands\",\"West Midlands\",\"West Midlands\",\"West Midlands\",\"West Midlands\",\"West Midlands\",\"West Midlands\",\"West Midlands\",\"West Midlands\",\"West Midlands\",\"West Midlands\",\"West Midlands\",\"West Midlands\",\"West Midlands\",\"West Midlands\",\"West Midlands\",\"West Midlands\",\"West Midlands\",\"West Midlands\",\"West Midlands\",\"West Midlands\",\"West Midlands\",\"West Midlands\",\"West Midlands\",\"West Midlands\",\"West Midlands\",\"West Midlands\",\"West Midlands\",\"West Midlands\",\"West Midlands\",\"West Midlands\",\"West Midlands\",\"West Midlands\",\"West Midlands\",\"West Midlands\",\"West Midlands\",\"West Midlands\",\"West Midlands\",\"West Midlands\",\"West Midlands\",\"West Midlands\",\"West Midlands\",\"West Midlands\",\"West Midlands\",\"West Midlands\",\"West Midlands\",\"West Midlands\",\"West Midlands\",\"West Midlands\",\"West Midlands\",\"West Midlands\",\"West Midlands\",\"West Midlands\",\"West Midlands\",\"West Midlands\",\"West Midlands\",\"West Midlands\",\"West Midlands\",\"West Midlands\",\"West Midlands\",\"West Midlands\"],\"Year_Month\":[\"2013-05\",\"2013-06\",\"2013-07\",\"2013-08\",\"2013-09\",\"2013-10\",\"2013-11\",\"2013-12\",\"2014-01\",\"2014-02\",\"2014-03\",\"2014-04\",\"2014-05\",\"2014-06\",\"2014-07\",\"2014-08\",\"2014-09\",\"2014-10\",\"2014-11\",\"2014-12\",\"2015-01\",\"2015-02\",\"2015-03\",\"2015-04\",\"2015-05\",\"2015-06\",\"2015-07\",\"2015-08\",\"2015-09\",\"2015-10\",\"2015-11\",\"2015-12\",\"2016-01\",\"2016-02\",\"2016-03\",\"2016-04\",\"2016-05\",\"2016-06\",\"2016-07\",\"2016-08\",\"2016-09\",\"2016-10\",\"2016-11\",\"2016-12\",\"2017-01\",\"2017-02\",\"2017-03\",\"2017-04\",\"2017-05\",\"2017-06\",\"2017-07\",\"2017-08\",\"2017-09\",\"2017-10\",\"2017-11\",\"2017-12\",\"2018-01\",\"2018-02\",\"2018-03\",\"2018-04\",\"2018-05\",\"2018-06\",\"2018-07\",\"2018-08\",\"2018-09\",\"2018-10\",\"2018-11\",\"2018-12\",\"2019-01\",\"2019-02\",\"2019-03\",\"2019-04\",\"2019-05\",\"2019-06\",\"2019-07\",\"2019-08\",\"2019-09\",\"2019-10\",\"2019-11\",\"2019-12\",\"2020-01\",\"2020-02\",\"2020-03\",\"2020-04\",\"2020-05\",\"2020-06\",\"2020-07\",\"2020-08\",\"2020-09\",\"2020-10\",\"2020-11\",\"2020-12\"]},\"selected\":{\"id\":\"91093\"},\"selection_policy\":{\"id\":\"91130\"}},\"id\":\"91092\",\"type\":\"ColumnDataSource\"},{\"attributes\":{\"bottom_units\":\"screen\",\"coordinates\":null,\"fill_alpha\":0.5,\"fill_color\":\"lightgrey\",\"group\":null,\"left_units\":\"screen\",\"level\":\"overlay\",\"line_alpha\":1.0,\"line_color\":\"black\",\"line_dash\":[4,4],\"line_width\":2,\"right_units\":\"screen\",\"syncable\":false,\"top_units\":\"screen\"},\"id\":\"91012\",\"type\":\"BoxAnnotation\"},{\"attributes\":{\"desired_num_ticks\":0},\"id\":\"91020\",\"type\":\"BasicTicker\"}],\"root_ids\":[\"90974\",\"91410\"]},\"title\":\"Bokeh Application\",\"version\":\"2.4.2\"}};\n",
       "    var render_items = [{\"docid\":\"26a0c27a-1cd7-4274-9587-5be58ab72ecb\",\"root_ids\":[\"90974\"],\"roots\":{\"90974\":\"445d2145-d8b3-49d4-aff7-403b562ed6b7\"}}];\n",
       "    root.Bokeh.embed.embed_items_notebook(docs_json, render_items);\n",
       "  }\n",
       "  if (root.Bokeh !== undefined && root.Bokeh.Panel !== undefined && ( root['Tabulator'] !== undefined)) {\n",
       "    embed_document(root);\n",
       "  } else {\n",
       "    var attempts = 0;\n",
       "    var timer = setInterval(function(root) {\n",
       "      if (root.Bokeh !== undefined && root.Bokeh.Panel !== undefined && (root['Tabulator'] !== undefined)) {\n",
       "        clearInterval(timer);\n",
       "        embed_document(root);\n",
       "      } else if (document.readyState == \"complete\") {\n",
       "        attempts++;\n",
       "        if (attempts > 200) {\n",
       "          clearInterval(timer);\n",
       "          console.log(\"Bokeh: ERROR: Unable to run BokehJS code because BokehJS library is missing\");\n",
       "        }\n",
       "      }\n",
       "    }, 25, root)\n",
       "  }\n",
       "})(window);</script>"
      ],
      "text/plain": [
       "<hvplot.interactive.Interactive at 0x241239ef3a0>"
      ]
     },
     "execution_count": 136,
     "metadata": {
      "application/vnd.holoviews_exec.v0+json": {
       "id": "90974"
      }
     },
     "output_type": "execute_result"
    }
   ],
   "source": [
    "crtyp_plot = crimetyp_pipeline.hvplot(x = 'Year_Month', y='Frequency',by='RGN19NM',legend=False,xticks=0,line_width=2, title=\"Crime Frequency plot for Crime type for all regions\")\n",
    "crtyp_plot"
   ]
  },
  {
   "cell_type": "code",
   "execution_count": 137,
   "id": "fcda4b4c-f775-4cdc-8535-f43924b6b799",
   "metadata": {},
   "outputs": [
    {
     "name": "stdout",
     "output_type": "stream",
     "text": [
      "Launching server at http://localhost:65375\n"
     ]
    }
   ],
   "source": [
    "template = pn.template.FastListTemplate(\n",
    "    title='Crime frequency:England dashboard', \n",
    "    sidebar=[pn.pane.Markdown(\"# Crime frequency England dashboard\"), \n",
    "             pn.pane.Markdown(\"#### Choose from the options below\"), \n",
    "             pn.pane.Markdown(\"## Settings\"),   \n",
    "             year_slider,select_rgn,select_typ],\n",
    "    main=[pn.Row(pn.Column(cryrtyp_plot.panel(width=260), margin=(0,25)),\n",
    "              pn.Column(crtyp1_plot.panel(width=700))),\n",
    "        pn.Row(pn.Column(cryr_plot.panel(width=260), margin=(0,25)), \n",
    "                 pn.Column(crrgn_plot.panel(width=700))), \n",
    "        pn.Row(\n",
    "              pn.Column(crtyp_plot.panel(width=700),margin=(20,100)))],\n",
    "    accent_base_color=\"#88d8b0\",\n",
    "    header_background=\"#88d8b0\",\n",
    ")\n",
    "template.show()\n",
    "template.servable();"
   ]
  },
  {
   "cell_type": "code",
   "execution_count": null,
   "id": "c4d74644-393c-4b48-8fc8-89387bfc6a9c",
   "metadata": {},
   "outputs": [],
   "source": []
  },
  {
   "cell_type": "code",
   "execution_count": null,
   "id": "1cabea9c-f4dc-4157-8741-b42ddfab1634",
   "metadata": {},
   "outputs": [],
   "source": []
  },
  {
   "cell_type": "code",
   "execution_count": null,
   "id": "633a9852-2022-4d2d-a28f-50fb3e235b83",
   "metadata": {},
   "outputs": [],
   "source": []
  }
 ],
 "metadata": {
  "kernelspec": {
   "display_name": "Python 3 (ipykernel)",
   "language": "python",
   "name": "python3"
  },
  "language_info": {
   "codemirror_mode": {
    "name": "ipython",
    "version": 3
   },
   "file_extension": ".py",
   "mimetype": "text/x-python",
   "name": "python",
   "nbconvert_exporter": "python",
   "pygments_lexer": "ipython3",
   "version": "3.8.8"
  }
 },
 "nbformat": 4,
 "nbformat_minor": 5
}
